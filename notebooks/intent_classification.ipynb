{
  "metadata": {
    "kernelspec": {
      "name": "python3",
      "display_name": "Python 3",
      "language": "python"
    },
    "language_info": {
      "name": "python",
      "version": "3.11.11",
      "mimetype": "text/x-python",
      "codemirror_mode": {
        "name": "ipython",
        "version": 3
      },
      "pygments_lexer": "ipython3",
      "nbconvert_exporter": "python",
      "file_extension": ".py"
    },
    "colab": {
      "provenance": []
    },
    "kaggle": {
      "accelerator": "gpu",
      "dataSources": [
        {
          "sourceId": 2560015,
          "sourceType": "datasetVersion",
          "datasetId": 1549969
        },
        {
          "sourceId": 11630476,
          "sourceType": "datasetVersion",
          "datasetId": 7297074
        }
      ],
      "dockerImageVersionId": 31011,
      "isInternetEnabled": true,
      "language": "python",
      "sourceType": "notebook",
      "isGpuEnabled": true
    }
  },
  "nbformat_minor": 5,
  "nbformat": 4,
  "cells": [
    {
      "cell_type": "markdown",
      "source": [
        "[![Open In nbviewer](https://img.shields.io/badge/Jupyter-nbviewer-orange?logo=jupyter)](\n",
        "https://nbviewer.org/github/RadyaSRN/intent-classification-for-QA-chatbot/blob/main/notebooks/intent_classification.ipynb)\n",
        "[![Open In Kaggle](https://kaggle.com/static/images/open-in-kaggle.svg)](\n",
        "https://www.kaggle.com/kernels/welcome?src=https://github.com/RadyaSRN/intent-classification-for-QA-chatbot/blob/main/notebooks/intent_classification.ipynb)\n",
        "[![Open In Colab](https://colab.research.google.com/assets/colab-badge.svg)](\n",
        "https://colab.research.google.com/github/RadyaSRN/intent-classification-for-QA-chatbot/blob/main/notebooks/intent_classification.ipynb)\n",
        "[![W&B Report](https://img.shields.io/badge/Weights%20&%20Biases-Report-orange?logo=weightsandbiases)](\n",
        "https://wandb.ai/radyasrn-mipt/NLP-spring-2025/reports/intent-classification-for-QA-chatbot--VmlldzoxNDI1MzExMg)"
      ],
      "metadata": {
        "id": "vs-rqE40iQyr"
      },
      "id": "vs-rqE40iQyr"
    },
    {
      "cell_type": "markdown",
      "source": [
        "<b><font size=6>**Introduction**</font></b>\n",
        "\n",
        "The notebook is divided into steps:\n",
        "\n",
        "- [Step 1: Exploratory Data Analysis](#step-1-exploratory-data-analysis)\n",
        "- [Step 2: RuBERT Model](#step-2-rubert-model)\n",
        "- [Step 3: RuBERT Model with Gradual Training Setup](#step-3-rubert-model-with-gradual-training-setup)\n",
        "- [Step 4: RuBERT Model with Augmentex Augmentations](#step-4-rubert-model-with-augmentex-augmentations)\n",
        "- [Step 5: Final Comparison of Models](#step-5-final-comparison-of-models)\n",
        "\n",
        "This notebook presents a pipeline for training of the **[RuBERT](https://huggingface.co/DeepPavlov/rubert-base-cased) model** on, its modifications, and using various techniques for the classification of user intents in their requests to the university QA chatbot from the Novosibirsk State University **[dataset](https://www.kaggle.com/datasets/constantinwerner/qa-intents-dataset-university-domain)**."
      ],
      "metadata": {
        "id": "nfnHLo7jiRHC"
      },
      "id": "nfnHLo7jiRHC"
    },
    {
      "cell_type": "markdown",
      "source": [
        "![Illustration](../images/intent-classification-illustration.png)"
      ],
      "metadata": {
        "id": "8XfPH2YGiWAz"
      },
      "id": "8XfPH2YGiWAz"
    },
    {
      "cell_type": "markdown",
      "source": [
        "The project was carried out in a Kaggle environment with a P100 GPU.\n",
        "\n",
        "Let's make the necessary imports:"
      ],
      "metadata": {
        "id": "HWgMYncYiWKd"
      },
      "id": "HWgMYncYiWKd"
    },
    {
      "cell_type": "code",
      "source": [
        "import numpy as np\n",
        "import os\n",
        "import pandas as pd\n",
        "import torch\n",
        "import wandb\n",
        "from datasets import Dataset\n",
        "from safetensors.torch import load_file\n",
        "from sklearn.metrics import accuracy_score, f1_score\n",
        "from sklearn.model_selection import train_test_split\n",
        "from sklearn.preprocessing import LabelEncoder\n",
        "from torch.utils.data import DataLoader, TensorDataset\n",
        "from transformers import (\n",
        "    AutoModel,\n",
        "    AutoModelForMaskedLM,\n",
        "    AutoModelForSequenceClassification,\n",
        "    AutoTokenizer,\n",
        "    DataCollatorForLanguageModeling,\n",
        "    Trainer,\n",
        "    TrainingArguments,\n",
        ")\n",
        "from tqdm.notebook import tqdm\n",
        "\n",
        "# Plotting\n",
        "import matplotlib.pyplot as plt\n",
        "import seaborn as sns\n",
        "%matplotlib inline\n",
        "sns.set_theme(style=\"whitegrid\")\n",
        "\n",
        "# Models and utils\n",
        "from src.models import\n",
        "from src.dataset import\n",
        "from src.utils import"
      ],
      "metadata": {
        "id": "7WHAz5SPiZSW"
      },
      "id": "7WHAz5SPiZSW",
      "execution_count": null,
      "outputs": []
    },
    {
      "id": "bf709ae5-8811-481a-91bf-647210dd1169",
      "cell_type": "markdown",
      "source": [
        "<a name=\"step-1-exploratory-data-analysis\"></a>\n",
        "<b><font size=4>**Step $1$</font></b> <b><font size=2>(Exploratory Data Analysis):**</font></b>\n",
        "\n",
        "In this step, we will examine our data.\n",
        "\n",
        "Let's look at the sizes of the datasets:"
      ],
      "metadata": {
        "id": "bf709ae5-8811-481a-91bf-647210dd1169"
      }
    },
    {
      "id": "aa7bc25b-e9d1-4be7-a00a-61690275122b",
      "cell_type": "code",
      "source": [
        "train_path = \"/kaggle/input/qa-intents-dataset-university-domain/dataset_train.tsv\"\n",
        "test_path = \"/kaggle/input/qa-intents-dataset-university-domain/dataset_test.tsv\"\n",
        "\n",
        "train_df = pd.read_csv(train_path, sep=\"\\t\", header=None, names=[\"text\", \"label\"])\n",
        "test_df = pd.read_csv(test_path, sep=\"\\t\", header=None, names=[\"text\", \"label\"])\n",
        "\n",
        "print(\"Train dataset size:\", len(train_df))\n",
        "print(\"Test dataset size:\", len(test_df))"
      ],
      "metadata": {
        "trusted": true,
        "execution": {
          "iopub.status.busy": "2025-09-04T08:57:57.709793Z",
          "iopub.execute_input": "2025-09-04T08:57:57.710670Z",
          "iopub.status.idle": "2025-09-04T08:57:57.776696Z",
          "shell.execute_reply.started": "2025-09-04T08:57:57.710640Z",
          "shell.execute_reply": "2025-09-04T08:57:57.775924Z"
        },
        "id": "aa7bc25b-e9d1-4be7-a00a-61690275122b",
        "outputId": "d2728a81-68ba-4023-8d12-32c97d3be7e2"
      },
      "outputs": [
        {
          "name": "stdout",
          "text": "Train dataset size: 13230\nTest dataset size: 883\n",
          "output_type": "stream"
        }
      ],
      "execution_count": null
    },
    {
      "id": "c2519e11-b3bd-4879-9c6e-fe4df9a22ee6",
      "cell_type": "markdown",
      "source": [
        "We can see that the train is quite large compared to the test. Let's look at the average number of samples per class:"
      ],
      "metadata": {
        "id": "c2519e11-b3bd-4879-9c6e-fe4df9a22ee6"
      }
    },
    {
      "id": "028376d9-c1d4-4b66-8fd2-8285e7ae73fb",
      "cell_type": "code",
      "source": [
        "label_counts = train_df[\"label\"].value_counts()\n",
        "mean_samples_per_class = label_counts.mean()\n",
        "\n",
        "print(\"Average sample count per class:\", f'{mean_samples_per_class:.2f}')\n",
        "print(\"Unique class count:\", label_counts.shape[0])"
      ],
      "metadata": {
        "trusted": true,
        "execution": {
          "iopub.status.busy": "2025-09-04T08:57:59.594289Z",
          "iopub.execute_input": "2025-09-04T08:57:59.594992Z",
          "iopub.status.idle": "2025-09-04T08:57:59.603790Z",
          "shell.execute_reply.started": "2025-09-04T08:57:59.594965Z",
          "shell.execute_reply": "2025-09-04T08:57:59.602825Z"
        },
        "id": "028376d9-c1d4-4b66-8fd2-8285e7ae73fb",
        "outputId": "5e5d27ae-1da3-4aea-cfa4-10a14b4ec22b"
      },
      "outputs": [
        {
          "name": "stdout",
          "text": "Average sample count per class: 93.17\nUnique class count: 142\n",
          "output_type": "stream"
        }
      ],
      "execution_count": null
    },
    {
      "id": "7207c20e-2cda-4584-8ba8-ad8656a0c5de",
      "cell_type": "markdown",
      "source": [
        "Next, let's look at the statistics on request length:"
      ],
      "metadata": {
        "id": "7207c20e-2cda-4584-8ba8-ad8656a0c5de"
      }
    },
    {
      "id": "120b2f1c-23b2-4786-a326-9399d5c4bb0e",
      "cell_type": "code",
      "source": [
        "train_df[\"text_len\"] = train_df[\"text\"].apply(lambda x: len(x.split()))\n",
        "\n",
        "print(\"Average request length (in words):\", f'{train_df[\"text_len\"].mean():.2f}')\n",
        "print(\"Maximum request length:\", train_df[\"text_len\"].max())\n",
        "print(\"Median request length:\", train_df[\"text_len\"].median())"
      ],
      "metadata": {
        "trusted": true,
        "execution": {
          "iopub.status.busy": "2025-09-04T08:59:12.710958Z",
          "iopub.execute_input": "2025-09-04T08:59:12.711537Z",
          "iopub.status.idle": "2025-09-04T08:59:12.729311Z",
          "shell.execute_reply.started": "2025-09-04T08:59:12.711510Z",
          "shell.execute_reply": "2025-09-04T08:59:12.728588Z"
        },
        "id": "120b2f1c-23b2-4786-a326-9399d5c4bb0e",
        "outputId": "6834c436-6cda-4937-f20a-b751189a76a2"
      },
      "outputs": [
        {
          "name": "stdout",
          "text": "Average request length (in words): 4.05\nMaximum request length: 18\nMedian request length: 4.0\n",
          "output_type": "stream"
        }
      ],
      "execution_count": null
    },
    {
      "id": "5481e141-e482-4041-9b00-bf6d37fe4d5b",
      "cell_type": "markdown",
      "source": [
        "We can see that these are usually fairly short queries, which is typical for queries to a university chatbot. Let's look at some examples of queries:"
      ],
      "metadata": {
        "id": "5481e141-e482-4041-9b00-bf6d37fe4d5b"
      }
    },
    {
      "id": "13b90605-24b6-4c75-afda-cace7582000c",
      "cell_type": "code",
      "source": [
        "sample_texts = train_df.sample(10, random_state=42)[\"text\"].tolist()\n",
        "for i, text in enumerate(sample_texts, 1):\n",
        "    print(f\"{i}. {text}\")"
      ],
      "metadata": {
        "trusted": true,
        "execution": {
          "iopub.status.busy": "2025-05-14T16:12:41.832824Z",
          "iopub.execute_input": "2025-05-14T16:12:41.833298Z",
          "iopub.status.idle": "2025-05-14T16:12:41.838859Z",
          "shell.execute_reply.started": "2025-05-14T16:12:41.833276Z",
          "shell.execute_reply": "2025-05-14T16:12:41.838201Z"
        },
        "id": "13b90605-24b6-4c75-afda-cace7582000c",
        "outputId": "a7e4ce32-3e03-4886-b6d5-43cfbbfd0ce2"
      },
      "outputs": [
        {
          "name": "stdout",
          "text": "1. где сейчас Саблина С.Г.\n2. покажи корпус старый плз\n3. ехать институт физики ядерной\n4. бот  несообразительный\n5. цена обучения узнать\n6. разрешение на внос оборудования как мне заказать)\n7. будкер\n8. проводить стипендия число\n9. институт математики расположен где\n10. где сейчас Багрянцева И.Н.\n",
          "output_type": "stream"
        }
      ],
      "execution_count": null
    },
    {
      "cell_type": "markdown",
      "source": [
        "<a name=\"step-2-rubert-model\"></a>\n",
        "<b><font size=4>**Step $2$</font></b> <b><font size=2>(RuBERT Model):**</font></b>"
      ],
      "metadata": {
        "id": "t0no97KmrudP"
      },
      "id": "t0no97KmrudP"
    },
    {
      "id": "81c2fadb-e53a-4a24-9370-b13cc63f63d3",
      "cell_type": "markdown",
      "source": [
        "In this step, we will train the same model `DeepPavlov/rubert-base-cased`.\n",
        "\n",
        "Let's write a function for tokenization:"
      ],
      "metadata": {
        "id": "81c2fadb-e53a-4a24-9370-b13cc63f63d3"
      }
    },
    {
      "id": "8c554ccd-180f-486d-97da-e168a7df1bde",
      "cell_type": "code",
      "source": [
        "def tokenize(example):\n",
        "    return tokenizer(example[\"text\"], padding=\"max_length\", truncation=True, max_length=128)"
      ],
      "metadata": {
        "trusted": true,
        "execution": {
          "iopub.status.busy": "2025-05-14T16:12:44.023257Z",
          "iopub.execute_input": "2025-05-14T16:12:44.024178Z",
          "iopub.status.idle": "2025-05-14T16:12:44.028274Z",
          "shell.execute_reply.started": "2025-05-14T16:12:44.024151Z",
          "shell.execute_reply": "2025-05-14T16:12:44.027578Z"
        },
        "id": "8c554ccd-180f-486d-97da-e168a7df1bde"
      },
      "outputs": [],
      "execution_count": null
    },
    {
      "id": "1278d048-3513-4eba-9414-f2e2cdb844a6",
      "cell_type": "markdown",
      "source": [
        "We will prepare the data by allocating $10\\%$ of the training set for validation:"
      ],
      "metadata": {
        "id": "1278d048-3513-4eba-9414-f2e2cdb844a6"
      }
    },
    {
      "id": "f4e37cd9-dab7-4096-ba66-5cc58b77a77d",
      "cell_type": "code",
      "source": [
        "train_df = pd.read_csv(\"/kaggle/input/qa-intents-dataset-university-domain/dataset_train.tsv\", sep=\"\\t\", header=None, names=[\"text\", \"label\"])\n",
        "test_df = pd.read_csv(\"/kaggle/input/qa-intents-dataset-university-domain/dataset_test.tsv\", sep=\"\\t\", header=None, names=[\"text\", \"label\"])\n",
        "\n",
        "le = LabelEncoder()\n",
        "train_df[\"label_id\"] = le.fit_transform(train_df[\"label\"])\n",
        "test_df[\"label_id\"] = le.transform(test_df[\"label\"])\n",
        "\n",
        "train_texts, val_texts, train_labels, val_labels = train_test_split(\n",
        "    train_df[\"text\"], train_df[\"label_id\"], test_size=0.1, random_state=42, stratify=train_df[\"label_id\"]\n",
        ")\n",
        "\n",
        "train_dataset = Dataset.from_dict({\"text\": train_texts.tolist(), \"label\": train_labels.tolist()})\n",
        "val_dataset = Dataset.from_dict({\"text\": val_texts.tolist(), \"label\": val_labels.tolist()})\n",
        "test_dataset = Dataset.from_dict({\"text\": test_df[\"text\"].tolist(), \"label\": test_df[\"label_id\"].tolist()})\n",
        "\n",
        "model_checkpoint = \"DeepPavlov/rubert-base-cased\"\n",
        "tokenizer = AutoTokenizer.from_pretrained(model_checkpoint)\n",
        "\n",
        "train_dataset = train_dataset.map(tokenize).remove_columns([\"text\"])\n",
        "val_dataset = val_dataset.map(tokenize).remove_columns([\"text\"])\n",
        "test_dataset = test_dataset.map(tokenize).remove_columns([\"text\"])\n",
        "\n",
        "train_dataset.set_format(\"torch\")\n",
        "val_dataset.set_format(\"torch\")\n",
        "test_dataset.set_format(\"torch\")\n",
        "\n",
        "num_labels = len(le.classes_)"
      ],
      "metadata": {
        "trusted": true,
        "execution": {
          "iopub.status.busy": "2025-05-14T16:12:46.048316Z",
          "iopub.execute_input": "2025-05-14T16:12:46.048788Z",
          "iopub.status.idle": "2025-05-14T16:12:50.152855Z",
          "shell.execute_reply.started": "2025-05-14T16:12:46.048764Z",
          "shell.execute_reply": "2025-05-14T16:12:50.152011Z"
        },
        "colab": {
          "referenced_widgets": [
            "aefb7f3a5cdc42b583b1f1cd5a94ece8",
            "63ec2527ff2448b5bf1a67d7d894e679",
            "86729a1e0feb4499aaa23e484d31be47"
          ]
        },
        "id": "f4e37cd9-dab7-4096-ba66-5cc58b77a77d",
        "outputId": "2bfdfeb5-71bd-47cf-c17f-8748b4415e2f"
      },
      "outputs": [
        {
          "output_type": "display_data",
          "data": {
            "text/plain": "Map:   0%|          | 0/11907 [00:00<?, ? examples/s]",
            "application/vnd.jupyter.widget-view+json": {
              "version_major": 2,
              "version_minor": 0,
              "model_id": "aefb7f3a5cdc42b583b1f1cd5a94ece8"
            }
          },
          "metadata": {}
        },
        {
          "output_type": "display_data",
          "data": {
            "text/plain": "Map:   0%|          | 0/1323 [00:00<?, ? examples/s]",
            "application/vnd.jupyter.widget-view+json": {
              "version_major": 2,
              "version_minor": 0,
              "model_id": "63ec2527ff2448b5bf1a67d7d894e679"
            }
          },
          "metadata": {}
        },
        {
          "output_type": "display_data",
          "data": {
            "text/plain": "Map:   0%|          | 0/883 [00:00<?, ? examples/s]",
            "application/vnd.jupyter.widget-view+json": {
              "version_major": 2,
              "version_minor": 0,
              "model_id": "86729a1e0feb4499aaa23e484d31be47"
            }
          },
          "metadata": {}
        }
      ],
      "execution_count": null
    },
    {
      "id": "ba1fd8e8-2fcb-4376-9136-efbdebc7293a",
      "cell_type": "markdown",
      "source": [
        "We will train the model for 8 epochs with `learning_rate=2e-5 and weight_decay=0.01`. We will take the model with the best validation accuracy as the final model:"
      ],
      "metadata": {
        "id": "ba1fd8e8-2fcb-4376-9136-efbdebc7293a"
      }
    },
    {
      "id": "c72e4201-eafa-4963-ad69-b32f67f7c558",
      "cell_type": "code",
      "source": [
        "wandb.init(project=\"NLP-spring-2025\", name=\"rubert-intent-cls-run-5\")\n",
        "\n",
        "model = AutoModelForSequenceClassification.from_pretrained(\n",
        "    model_checkpoint,\n",
        "    num_labels=num_labels\n",
        ")\n",
        "\n",
        "training_args = TrainingArguments(\n",
        "    output_dir=\"./results-rubert-intent-cls\",\n",
        "    eval_strategy=\"epoch\",\n",
        "    save_strategy=\"epoch\",\n",
        "    learning_rate=2e-5,\n",
        "    per_device_train_batch_size=128,\n",
        "    per_device_eval_batch_size=128,\n",
        "    num_train_epochs=8,\n",
        "    weight_decay=0.01,\n",
        "    logging_steps=50,\n",
        "    load_best_model_at_end=True,\n",
        "    metric_for_best_model=\"accuracy\",\n",
        "    greater_is_better=True,\n",
        "    save_total_limit=1,\n",
        "    report_to=\"wandb\"\n",
        ")\n",
        "\n",
        "trainer = Trainer(\n",
        "    model=model,\n",
        "    args=training_args,\n",
        "    train_dataset=train_dataset,\n",
        "    eval_dataset=val_dataset,\n",
        "    tokenizer=tokenizer,\n",
        "    compute_metrics=compute_accuracy\n",
        ")\n",
        "\n",
        "trainer.train()"
      ],
      "metadata": {
        "trusted": true,
        "execution": {
          "iopub.status.busy": "2025-05-14T16:16:40.717071Z",
          "iopub.execute_input": "2025-05-14T16:16:40.717573Z",
          "iopub.status.idle": "2025-05-14T16:36:06.598712Z",
          "shell.execute_reply.started": "2025-05-14T16:16:40.717546Z",
          "shell.execute_reply": "2025-05-14T16:36:06.598085Z"
        },
        "id": "c72e4201-eafa-4963-ad69-b32f67f7c558",
        "outputId": "fbdf8c72-87ca-4b56-bbf9-fd11b710b1d0"
      },
      "outputs": [
        {
          "output_type": "display_data",
          "data": {
            "text/plain": "<IPython.core.display.HTML object>",
            "text/html": "Tracking run with wandb version 0.19.6"
          },
          "metadata": {}
        },
        {
          "output_type": "display_data",
          "data": {
            "text/plain": "<IPython.core.display.HTML object>",
            "text/html": "Run data is saved locally in <code>/kaggle/working/wandb/run-20250514_161640-477sjrgb</code>"
          },
          "metadata": {}
        },
        {
          "output_type": "display_data",
          "data": {
            "text/plain": "<IPython.core.display.HTML object>",
            "text/html": "Syncing run <strong><a href='https://wandb.ai/radyasrn-mipt/NLP-spring-2025/runs/477sjrgb' target=\"_blank\">rubert-intent-cls-run-5</a></strong> to <a href='https://wandb.ai/radyasrn-mipt/NLP-spring-2025' target=\"_blank\">Weights & Biases</a> (<a href='https://wandb.me/developer-guide' target=\"_blank\">docs</a>)<br>"
          },
          "metadata": {}
        },
        {
          "output_type": "display_data",
          "data": {
            "text/plain": "<IPython.core.display.HTML object>",
            "text/html": " View project at <a href='https://wandb.ai/radyasrn-mipt/NLP-spring-2025' target=\"_blank\">https://wandb.ai/radyasrn-mipt/NLP-spring-2025</a>"
          },
          "metadata": {}
        },
        {
          "output_type": "display_data",
          "data": {
            "text/plain": "<IPython.core.display.HTML object>",
            "text/html": " View run at <a href='https://wandb.ai/radyasrn-mipt/NLP-spring-2025/runs/477sjrgb' target=\"_blank\">https://wandb.ai/radyasrn-mipt/NLP-spring-2025/runs/477sjrgb</a>"
          },
          "metadata": {}
        },
        {
          "name": "stderr",
          "text": "Some weights of BertForSequenceClassification were not initialized from the model checkpoint at DeepPavlov/rubert-base-cased and are newly initialized: ['classifier.bias', 'classifier.weight']\nYou should probably TRAIN this model on a down-stream task to be able to use it for predictions and inference.\n/tmp/ipykernel_31/4109849346.py:25: FutureWarning: `tokenizer` is deprecated and will be removed in version 5.0.0 for `Trainer.__init__`. Use `processing_class` instead.\n  trainer = Trainer(\n",
          "output_type": "stream"
        },
        {
          "output_type": "display_data",
          "data": {
            "text/plain": "<IPython.core.display.HTML object>",
            "text/html": "\n    <div>\n      \n      <progress value='752' max='752' style='width:300px; height:20px; vertical-align: middle;'></progress>\n      [752/752 19:15, Epoch 8/8]\n    </div>\n    <table border=\"1\" class=\"dataframe\">\n  <thead>\n <tr style=\"text-align: left;\">\n      <th>Epoch</th>\n      <th>Training Loss</th>\n      <th>Validation Loss</th>\n      <th>Accuracy</th>\n    </tr>\n  </thead>\n  <tbody>\n    <tr>\n      <td>1</td>\n      <td>4.534600</td>\n      <td>3.369465</td>\n      <td>0.477702</td>\n    </tr>\n    <tr>\n      <td>2</td>\n      <td>3.139400</td>\n      <td>2.289751</td>\n      <td>0.684807</td>\n    </tr>\n    <tr>\n      <td>3</td>\n      <td>2.147100</td>\n      <td>1.625284</td>\n      <td>0.826153</td>\n    </tr>\n    <tr>\n      <td>4</td>\n      <td>1.559600</td>\n      <td>1.224678</td>\n      <td>0.888133</td>\n    </tr>\n    <tr>\n      <td>5</td>\n      <td>1.194900</td>\n      <td>0.971248</td>\n      <td>0.928949</td>\n    </tr>\n    <tr>\n      <td>6</td>\n      <td>0.973800</td>\n      <td>0.820877</td>\n      <td>0.937264</td>\n    </tr>\n    <tr>\n      <td>7</td>\n      <td>0.866200</td>\n      <td>0.738111</td>\n      <td>0.941043</td>\n    </tr>\n    <tr>\n      <td>8</td>\n      <td>0.817700</td>\n      <td>0.712808</td>\n      <td>0.942555</td>\n    </tr>\n  </tbody>\n</table><p>"
          },
          "metadata": {}
        },
        {
          "execution_count": 23,
          "output_type": "execute_result",
          "data": {
            "text/plain": "TrainOutput(global_step=752, training_loss=1.8404487653615627, metrics={'train_runtime': 1156.4216, 'train_samples_per_second': 82.371, 'train_steps_per_second': 0.65, 'total_flos': 6273602712760320.0, 'train_loss': 1.8404487653615627, 'epoch': 8.0})"
          },
          "metadata": {}
        }
      ],
      "execution_count": null
    },
    {
      "id": "2aa768e9-5635-4e84-aad3-e05a8ba3cab2",
      "cell_type": "markdown",
      "source": [
        "Then we will finish the run:"
      ],
      "metadata": {
        "id": "2aa768e9-5635-4e84-aad3-e05a8ba3cab2"
      }
    },
    {
      "id": "a818ff7f-3555-4bce-8293-a4e30f136edb",
      "cell_type": "code",
      "source": [
        "wandb.finish()"
      ],
      "metadata": {
        "trusted": true,
        "execution": {
          "iopub.status.busy": "2025-05-14T16:38:35.600020Z",
          "iopub.execute_input": "2025-05-14T16:38:35.600564Z",
          "iopub.status.idle": "2025-05-14T16:38:37.267434Z",
          "shell.execute_reply.started": "2025-05-14T16:38:35.600541Z",
          "shell.execute_reply": "2025-05-14T16:38:37.266750Z"
        },
        "id": "a818ff7f-3555-4bce-8293-a4e30f136edb",
        "outputId": "f56ec78e-80d8-48c0-fe47-7027e803e887"
      },
      "outputs": [
        {
          "output_type": "display_data",
          "data": {
            "text/plain": "<IPython.core.display.HTML object>",
            "text/html": ""
          },
          "metadata": {}
        },
        {
          "output_type": "display_data",
          "data": {
            "text/plain": "<IPython.core.display.HTML object>",
            "text/html": "<br>    <style><br>        .wandb-row {<br>            display: flex;<br>            flex-direction: row;<br>            flex-wrap: wrap;<br>            justify-content: flex-start;<br>            width: 100%;<br>        }<br>        .wandb-col {<br>            display: flex;<br>            flex-direction: column;<br>            flex-basis: 100%;<br>            flex: 1;<br>            padding: 10px;<br>        }<br>    </style><br><div class=\"wandb-row\"><div class=\"wandb-col\"><h3>Run history:</h3><br/><table class=\"wandb\"><tr><td>eval/accuracy</td><td>▁▄▆▇████</td></tr><tr><td>eval/loss</td><td>█▅▃▂▂▁▁▁</td></tr><tr><td>eval/runtime</td><td>▁▁▃▃█▂▅▂</td></tr><tr><td>eval/samples_per_second</td><td>██▆▆▁▇▄▇</td></tr><tr><td>eval/steps_per_second</td><td>██▇▇▁█▅█</td></tr><tr><td>train/epoch</td><td>▁▁▁▂▂▂▃▃▃▄▄▄▅▅▅▆▆▆▇▇▇███</td></tr><tr><td>train/global_step</td><td>▁▁▁▂▂▂▃▃▃▄▄▄▅▅▅▆▆▆▇▇▇███</td></tr><tr><td>train/grad_norm</td><td>▇█▆▅▅▅▅▃▃▃▃▁▃▁▁</td></tr><tr><td>train/learning_rate</td><td>██▇▇▆▆▅▅▄▄▃▃▂▂▁</td></tr><tr><td>train/loss</td><td>█▇▅▄▄▃▂▂▂▂▁▁▁▁▁</td></tr></table><br/></div><div class=\"wandb-col\"><h3>Run summary:</h3><br/><table class=\"wandb\"><tr><td>eval/accuracy</td><td>0.94255</td></tr><tr><td>eval/loss</td><td>0.71281</td></tr><tr><td>eval/runtime</td><td>4.7601</td></tr><tr><td>eval/samples_per_second</td><td>277.934</td></tr><tr><td>eval/steps_per_second</td><td>2.311</td></tr><tr><td>total_flos</td><td>6273602712760320.0</td></tr><tr><td>train/epoch</td><td>8</td></tr><tr><td>train/global_step</td><td>752</td></tr><tr><td>train/grad_norm</td><td>1.24635</td></tr><tr><td>train/learning_rate</td><td>0.0</td></tr><tr><td>train/loss</td><td>0.8177</td></tr><tr><td>train_loss</td><td>1.84045</td></tr><tr><td>train_runtime</td><td>1156.4216</td></tr><tr><td>train_samples_per_second</td><td>82.371</td></tr><tr><td>train_steps_per_second</td><td>0.65</td></tr></table><br/></div></div>"
          },
          "metadata": {}
        },
        {
          "output_type": "display_data",
          "data": {
            "text/plain": "<IPython.core.display.HTML object>",
            "text/html": " View run <strong style=\"color:#cdcd00\">rubert-intent-cls-run-5</strong> at: <a href='https://wandb.ai/radyasrn-mipt/NLP-spring-2025/runs/477sjrgb' target=\"_blank\">https://wandb.ai/radyasrn-mipt/NLP-spring-2025/runs/477sjrgb</a><br> View project at: <a href='https://wandb.ai/radyasrn-mipt/NLP-spring-2025' target=\"_blank\">https://wandb.ai/radyasrn-mipt/NLP-spring-2025</a><br>Synced 5 W&B file(s), 0 media file(s), 0 artifact file(s) and 0 other file(s)"
          },
          "metadata": {}
        },
        {
          "output_type": "display_data",
          "data": {
            "text/plain": "<IPython.core.display.HTML object>",
            "text/html": "Find logs at: <code>./wandb/run-20250514_161640-477sjrgb/logs</code>"
          },
          "metadata": {}
        }
      ],
      "execution_count": null
    },
    {
      "id": "28d2752e-e04d-4cbe-9e10-565012e8d1a2",
      "cell_type": "markdown",
      "source": [
        "Then we will save the model:"
      ],
      "metadata": {
        "id": "28d2752e-e04d-4cbe-9e10-565012e8d1a2"
      }
    },
    {
      "id": "41df77dc-3994-4296-8058-80298b0b2d27",
      "cell_type": "code",
      "source": [
        "trainer.save_model(\"./rubert-intent-cls-model\")\n",
        "tokenizer.save_pretrained(\"./rubert-intent-cls-model\")"
      ],
      "metadata": {
        "trusted": true,
        "execution": {
          "iopub.status.busy": "2025-05-14T16:46:24.061980Z",
          "iopub.execute_input": "2025-05-14T16:46:24.062657Z",
          "iopub.status.idle": "2025-05-14T16:46:25.740036Z",
          "shell.execute_reply.started": "2025-05-14T16:46:24.062627Z",
          "shell.execute_reply": "2025-05-14T16:46:25.739503Z"
        },
        "id": "41df77dc-3994-4296-8058-80298b0b2d27",
        "outputId": "a4187b87-9116-402b-9f9a-e7eaa86ad551"
      },
      "outputs": [
        {
          "execution_count": 30,
          "output_type": "execute_result",
          "data": {
            "text/plain": "('./rubert-intent-cls-model/tokenizer_config.json',\n './rubert-intent-cls-model/special_tokens_map.json',\n './rubert-intent-cls-model/vocab.txt',\n './rubert-intent-cls-model/added_tokens.json',\n './rubert-intent-cls-model/tokenizer.json')"
          },
          "metadata": {}
        }
      ],
      "execution_count": null
    },
    {
      "id": "75591384-3093-4da2-b43b-7b4c2a1d798c",
      "cell_type": "markdown",
      "source": [
        "Let's look at the training history:"
      ],
      "metadata": {
        "id": "75591384-3093-4da2-b43b-7b4c2a1d798c"
      }
    },
    {
      "id": "e90accd1-f658-41d0-b3ba-d18bb93402d2",
      "cell_type": "code",
      "source": [
        "plot_wandb_metrics(\n",
        "    run_path='radyasrn-mipt/NLP-spring-2025/477sjrgb',\n",
        "    metric_keys=['eval/accuracy'],\n",
        "    title_suffix='Accuracy'\n",
        ")"
      ],
      "metadata": {
        "trusted": true,
        "execution": {
          "iopub.status.busy": "2025-09-04T09:03:13.367983Z",
          "iopub.execute_input": "2025-09-04T09:03:13.368631Z",
          "iopub.status.idle": "2025-09-04T09:03:14.710883Z",
          "shell.execute_reply.started": "2025-09-04T09:03:13.368603Z",
          "shell.execute_reply": "2025-09-04T09:03:14.710000Z"
        },
        "id": "e90accd1-f658-41d0-b3ba-d18bb93402d2",
        "outputId": "bb4c9db2-937b-497c-ef3e-fc4a5af3d06a"
      },
      "outputs": [
        {
          "name": "stderr",
          "text": "/tmp/ipykernel_31/3774981854.py:13: FutureWarning: DataFrame.fillna with 'method' is deprecated and will raise in a future version. Use obj.ffill() or obj.bfill() instead.\n  history = history.fillna(method='ffill').fillna(method='bfill')\n",
          "output_type": "stream"
        },
        {
          "output_type": "display_data",
          "data": {
            "text/plain": "<Figure size 1400x500 with 2 Axes>",
            "image/png": "[encoded data removed]"
          },
          "metadata": {}
        }
      ],
      "execution_count": null
    },
    {
      "id": "3822ef14-06b2-4b4d-9e3c-29de1e1312bd",
      "cell_type": "markdown",
      "source": [
        "We can see that we have achieved a good accuracy. Now let's look at the accuracy on the test data:"
      ],
      "metadata": {
        "id": "3822ef14-06b2-4b4d-9e3c-29de1e1312bd"
      }
    },
    {
      "id": "ad316a02-b1fa-45f4-b2f6-adb623c88ed4",
      "cell_type": "code",
      "source": [
        "model = AutoModelForSequenceClassification.from_pretrained(\n",
        "    \"./rubert-intent-cls-model\", num_labels=num_labels\n",
        ")\n",
        "model.eval()\n",
        "\n",
        "dataloader = DataLoader(test_dataset, batch_size=128)\n",
        "\n",
        "all_preds = []\n",
        "all_labels = []\n",
        "\n",
        "with torch.no_grad():\n",
        "    for batch in tqdm(dataloader, leave=False):\n",
        "        inputs = {k: v.to(model.device) for k, v in batch.items() if k != \"label\"}\n",
        "        labels = batch[\"label\"].to(model.device)\n",
        "        logits = model(**inputs).logits\n",
        "        preds = logits.argmax(dim=-1)\n",
        "        all_preds.append(preds.cpu())\n",
        "        all_labels.append(labels.cpu())\n",
        "\n",
        "all_preds = torch.cat(all_preds).numpy()\n",
        "all_labels = torch.cat(all_labels).numpy()\n",
        "\n",
        "acc = accuracy_score(all_labels, all_preds)"
      ],
      "metadata": {
        "trusted": true,
        "execution": {
          "iopub.status.busy": "2025-05-14T16:47:18.678729Z",
          "iopub.execute_input": "2025-05-14T16:47:18.679408Z",
          "iopub.status.idle": "2025-05-14T16:49:03.341692Z",
          "shell.execute_reply.started": "2025-05-14T16:47:18.679380Z",
          "shell.execute_reply": "2025-05-14T16:49:03.341115Z"
        },
        "colab": {
          "referenced_widgets": [
            ""
          ]
        },
        "id": "ad316a02-b1fa-45f4-b2f6-adb623c88ed4",
        "outputId": "390dff20-9d52-4777-84cd-40fd8221c73c"
      },
      "outputs": [
        {
          "output_type": "display_data",
          "data": {
            "text/plain": "  0%|          | 0/7 [00:00<?, ?it/s]",
            "application/vnd.jupyter.widget-view+json": {
              "version_major": 2,
              "version_minor": 0,
              "model_id": ""
            }
          },
          "metadata": {}
        }
      ],
      "execution_count": null
    },
    {
      "id": "c1cb106e-a5fa-46f0-a6b9-4a32e1473433",
      "cell_type": "code",
      "source": [
        "print(f'{acc:.3f}')"
      ],
      "metadata": {
        "trusted": true,
        "execution": {
          "iopub.status.busy": "2025-05-14T20:05:28.131688Z",
          "iopub.execute_input": "2025-05-14T20:05:28.132371Z",
          "iopub.status.idle": "2025-05-14T20:05:28.136210Z",
          "shell.execute_reply.started": "2025-05-14T20:05:28.132345Z",
          "shell.execute_reply": "2025-05-14T20:05:28.135486Z"
        },
        "id": "c1cb106e-a5fa-46f0-a6b9-4a32e1473433",
        "outputId": "1468c021-fc72-4873-e6ab-ace65cd4fe7c"
      },
      "outputs": [
        {
          "name": "stdout",
          "text": "0.949\n",
          "output_type": "stream"
        }
      ],
      "execution_count": null
    },
    {
      "cell_type": "markdown",
      "source": [
        "<a name=\"step-3-rubert-model-with-gradual-training-setup\"></a>\n",
        "<b><font size=4>**Step $3$</font></b> <b><font size=2>(RuBERT Model with Gradual Training Setup):**</font></b>"
      ],
      "metadata": {
        "id": "TFApoSCYr8JJ"
      },
      "id": "TFApoSCYr8JJ"
    },
    {
      "id": "259daef0-8850-4a35-9f59-03ef0d17e1fb",
      "cell_type": "markdown",
      "source": [
        "In this step, we will try to simulate a scenario where we have $122$ classes in the initial model deployment, and then new classes appear. We will then additionally train the last classification layer on the new classes, leaving the main transformer freezed during the additional training.\n",
        "\n",
        "Let's prepare the data:"
      ],
      "metadata": {
        "id": "259daef0-8850-4a35-9f59-03ef0d17e1fb"
      }
    },
    {
      "id": "c8e2ca89-b175-438a-84ba-328e594ac310",
      "cell_type": "code",
      "source": [
        "train_df = pd.read_csv(\"/kaggle/input/qa-intents-dataset-university-domain/dataset_train.tsv\", sep=\"\\t\", header=None, names=[\"text\", \"label\"])\n",
        "test_df = pd.read_csv(\"/kaggle/input/qa-intents-dataset-university-domain/dataset_test.tsv\", sep=\"\\t\", header=None, names=[\"text\", \"label\"])\n",
        "\n",
        "all_labels = sorted(train_df[\"label\"].unique())\n",
        "initial_labels = all_labels[:122]\n",
        "\n",
        "train_initial = train_df[train_df[\"label\"].isin(initial_labels)].copy()\n",
        "test_initial = test_df[test_df[\"label\"].isin(initial_labels)].copy()\n",
        "\n",
        "le_initial = LabelEncoder()\n",
        "train_initial[\"label_id\"] = le_initial.fit_transform(train_initial[\"label\"])\n",
        "test_initial[\"label_id\"] = le_initial.transform(test_initial[\"label\"])\n",
        "\n",
        "train_texts, val_texts, train_labels, val_labels = train_test_split(\n",
        "    train_initial[\"text\"], train_initial[\"label_id\"], test_size=0.1, stratify=train_initial[\"label_id\"], random_state=42\n",
        ")\n",
        "\n",
        "train_dataset = Dataset.from_dict({\"text\": train_texts.tolist(), \"label\": train_labels.tolist()})\n",
        "val_dataset = Dataset.from_dict({\"text\": val_texts.tolist(), \"label\": val_labels.tolist()})\n",
        "test_dataset = Dataset.from_dict({\"text\": test_initial[\"text\"].tolist(), \"label\": test_initial[\"label_id\"].tolist()})\n",
        "\n",
        "train_dataset = train_dataset.map(tokenize).remove_columns([\"text\"])\n",
        "val_dataset = val_dataset.map(tokenize).remove_columns([\"text\"])\n",
        "test_dataset = test_dataset.map(tokenize).remove_columns([\"text\"])\n",
        "train_dataset.set_format(\"torch\")\n",
        "val_dataset.set_format(\"torch\")\n",
        "test_dataset.set_format(\"torch\")"
      ],
      "metadata": {
        "trusted": true,
        "execution": {
          "iopub.status.busy": "2025-05-14T16:52:49.612637Z",
          "iopub.execute_input": "2025-05-14T16:52:49.613342Z",
          "iopub.status.idle": "2025-05-14T16:52:53.280593Z",
          "shell.execute_reply.started": "2025-05-14T16:52:49.613317Z",
          "shell.execute_reply": "2025-05-14T16:52:53.279878Z"
        },
        "colab": {
          "referenced_widgets": [
            "8203b131cbcf40bba1960b3a834d2da7",
            "721a3c5634154a278e2efb83234e6c46",
            "57e505e04226459d924f7b49cf92add7"
          ]
        },
        "id": "c8e2ca89-b175-438a-84ba-328e594ac310",
        "outputId": "d19f350e-fec8-4c7f-cbff-aaf27da859a5"
      },
      "outputs": [
        {
          "output_type": "display_data",
          "data": {
            "text/plain": "Map:   0%|          | 0/10320 [00:00<?, ? examples/s]",
            "application/vnd.jupyter.widget-view+json": {
              "version_major": 2,
              "version_minor": 0,
              "model_id": "8203b131cbcf40bba1960b3a834d2da7"
            }
          },
          "metadata": {}
        },
        {
          "output_type": "display_data",
          "data": {
            "text/plain": "Map:   0%|          | 0/1147 [00:00<?, ? examples/s]",
            "application/vnd.jupyter.widget-view+json": {
              "version_major": 2,
              "version_minor": 0,
              "model_id": "721a3c5634154a278e2efb83234e6c46"
            }
          },
          "metadata": {}
        },
        {
          "output_type": "display_data",
          "data": {
            "text/plain": "Map:   0%|          | 0/767 [00:00<?, ? examples/s]",
            "application/vnd.jupyter.widget-view+json": {
              "version_major": 2,
              "version_minor": 0,
              "model_id": "57e505e04226459d924f7b49cf92add7"
            }
          },
          "metadata": {}
        }
      ],
      "execution_count": null
    },
    {
      "id": "9157e1b5-d0bf-47eb-8060-451e5857827c",
      "cell_type": "markdown",
      "source": [
        "We will train the model for $8$ epochs with `learning_rate=2e-5 and weight_decay=0.01`:"
      ],
      "metadata": {
        "id": "9157e1b5-d0bf-47eb-8060-451e5857827c"
      }
    },
    {
      "id": "2a7d0bbc-898c-4ebf-88c9-37791f16f2bf",
      "cell_type": "code",
      "source": [
        "wandb.init(project=\"NLP-spring-2025\", name=\"rubert-intent-cls-122-classes-run-1\")\n",
        "\n",
        "model = AutoModelForSequenceClassification.from_pretrained(\n",
        "    model_checkpoint, num_labels=122\n",
        ")\n",
        "\n",
        "training_args = TrainingArguments(\n",
        "    output_dir=\"./results-rubert-intent-cls-122-classes\",\n",
        "    eval_strategy=\"epoch\",\n",
        "    save_strategy=\"epoch\",\n",
        "    learning_rate=2e-5,\n",
        "    per_device_train_batch_size=128,\n",
        "    per_device_eval_batch_size=128,\n",
        "    num_train_epochs=8,\n",
        "    weight_decay=0.01,\n",
        "    logging_steps=50,\n",
        "    load_best_model_at_end=True,\n",
        "    save_total_limit=1,\n",
        "    metric_for_best_model=\"accuracy\",\n",
        "    greater_is_better=True,\n",
        "    report_to=\"wandb\"\n",
        ")\n",
        "\n",
        "trainer = Trainer(\n",
        "    model=model,\n",
        "    args=training_args,\n",
        "    train_dataset=train_dataset,\n",
        "    eval_dataset=val_dataset,\n",
        "    tokenizer=tokenizer,\n",
        "    compute_metrics=compute_accuracy\n",
        ")\n",
        "\n",
        "trainer.train()"
      ],
      "metadata": {
        "trusted": true,
        "execution": {
          "iopub.status.busy": "2025-05-14T16:53:42.042716Z",
          "iopub.execute_input": "2025-05-14T16:53:42.042975Z",
          "iopub.status.idle": "2025-05-14T17:10:31.279734Z",
          "shell.execute_reply.started": "2025-05-14T16:53:42.042958Z",
          "shell.execute_reply": "2025-05-14T17:10:31.278653Z"
        },
        "id": "2a7d0bbc-898c-4ebf-88c9-37791f16f2bf",
        "outputId": "c5833167-d2c2-4ada-adf0-8d2ee0fcfed7"
      },
      "outputs": [
        {
          "name": "stderr",
          "text": "Some weights of BertForSequenceClassification were not initialized from the model checkpoint at DeepPavlov/rubert-base-cased and are newly initialized: ['classifier.bias', 'classifier.weight']\nYou should probably TRAIN this model on a down-stream task to be able to use it for predictions and inference.\n/tmp/ipykernel_31/1646557912.py:24: FutureWarning: `tokenizer` is deprecated and will be removed in version 5.0.0 for `Trainer.__init__`. Use `processing_class` instead.\n  trainer = Trainer(\n",
          "output_type": "stream"
        },
        {
          "output_type": "display_data",
          "data": {
            "text/plain": "<IPython.core.display.HTML object>",
            "text/html": "\n    <div>\n      \n      <progress value='648' max='648' style='width:300px; height:20px; vertical-align: middle;'></progress>\n      [648/648 16:45, Epoch 8/8]\n    </div>\n    <table border=\"1\" class=\"dataframe\">\n  <thead>\n <tr style=\"text-align: left;\">\n      <th>Epoch</th>\n      <th>Training Loss</th>\n      <th>Validation Loss</th>\n      <th>Accuracy</th>\n    </tr>\n  </thead>\n  <tbody>\n    <tr>\n      <td>1</td>\n      <td>4.302700</td>\n      <td>3.189149</td>\n      <td>0.516129</td>\n    </tr>\n    <tr>\n      <td>2</td>\n      <td>2.767100</td>\n      <td>2.216558</td>\n      <td>0.718396</td>\n    </tr>\n    <tr>\n      <td>3</td>\n      <td>2.273500</td>\n      <td>1.603537</td>\n      <td>0.835222</td>\n    </tr>\n    <tr>\n      <td>4</td>\n      <td>1.574400</td>\n      <td>1.215080</td>\n      <td>0.884045</td>\n    </tr>\n    <tr>\n      <td>5</td>\n      <td>1.162600</td>\n      <td>0.975970</td>\n      <td>0.923278</td>\n    </tr>\n    <tr>\n      <td>6</td>\n      <td>1.049800</td>\n      <td>0.833435</td>\n      <td>0.932868</td>\n    </tr>\n    <tr>\n      <td>7</td>\n      <td>0.906200</td>\n      <td>0.756019</td>\n      <td>0.937228</td>\n    </tr>\n    <tr>\n      <td>8</td>\n      <td>0.852200</td>\n      <td>0.731680</td>\n      <td>0.940715</td>\n    </tr>\n  </tbody>\n</table><p>"
          },
          "metadata": {}
        },
        {
          "execution_count": 36,
          "output_type": "execute_result",
          "data": {
            "text/plain": "TrainOutput(global_step=648, training_loss=1.790860841303696, metrics={'train_runtime': 1006.4489, 'train_samples_per_second': 82.031, 'train_steps_per_second': 0.644, 'total_flos': 5436463295692800.0, 'train_loss': 1.790860841303696, 'epoch': 8.0})"
          },
          "metadata": {}
        }
      ],
      "execution_count": null
    },
    {
      "id": "04f8f790-978d-4e61-8906-c98eaed4f270",
      "cell_type": "markdown",
      "source": [
        "Then we will finish the run:"
      ],
      "metadata": {
        "id": "04f8f790-978d-4e61-8906-c98eaed4f270"
      }
    },
    {
      "id": "69333ed7-240f-4f72-bf6f-7feff8482046",
      "cell_type": "code",
      "source": [
        "wandb.finish()"
      ],
      "metadata": {
        "trusted": true,
        "execution": {
          "iopub.status.busy": "2025-05-14T17:11:05.488161Z",
          "iopub.execute_input": "2025-05-14T17:11:05.488757Z",
          "iopub.status.idle": "2025-05-14T17:11:07.321094Z",
          "shell.execute_reply.started": "2025-05-14T17:11:05.488732Z",
          "shell.execute_reply": "2025-05-14T17:11:07.320372Z"
        },
        "id": "69333ed7-240f-4f72-bf6f-7feff8482046",
        "outputId": "005ab7b1-6239-424b-e06e-4068a4ad97f6"
      },
      "outputs": [
        {
          "output_type": "display_data",
          "data": {
            "text/plain": "<IPython.core.display.HTML object>",
            "text/html": ""
          },
          "metadata": {}
        },
        {
          "output_type": "display_data",
          "data": {
            "text/plain": "<IPython.core.display.HTML object>",
            "text/html": "<br>    <style><br>        .wandb-row {<br>            display: flex;<br>            flex-direction: row;<br>            flex-wrap: wrap;<br>            justify-content: flex-start;<br>            width: 100%;<br>        }<br>        .wandb-col {<br>            display: flex;<br>            flex-direction: column;<br>            flex-basis: 100%;<br>            flex: 1;<br>            padding: 10px;<br>        }<br>    </style><br><div class=\"wandb-row\"><div class=\"wandb-col\"><h3>Run history:</h3><br/><table class=\"wandb\"><tr><td>eval/accuracy</td><td>█▁▄▆▇████</td></tr><tr><td>eval/loss</td><td>▁█▅▄▂▂▁▁▁</td></tr><tr><td>eval/runtime</td><td>▁████████</td></tr><tr><td>eval/samples_per_second</td><td>█▁▄▄▄▄▄▅▄</td></tr><tr><td>eval/steps_per_second</td><td>█▁▃▃▃▃▃▄▃</td></tr><tr><td>train/epoch</td><td>█▁▁▂▂▂▃▃▃▄▄▅▅▅▆▆▆▇▇▇██</td></tr><tr><td>train/global_step</td><td>█▁▁▁▂▂▂▃▃▃▄▄▄▅▅▅▅▆▆▆▇▇</td></tr><tr><td>train/grad_norm</td><td>██▇▆▅▅▃▃▂▂▂▁</td></tr><tr><td>train/learning_rate</td><td>█▇▇▆▅▅▄▄▃▂▂▁</td></tr><tr><td>train/loss</td><td>█▆▅▄▃▂▂▂▁▁▁▁</td></tr></table><br/></div><div class=\"wandb-col\"><h3>Run summary:</h3><br/><table class=\"wandb\"><tr><td>eval/accuracy</td><td>0.94071</td></tr><tr><td>eval/loss</td><td>0.73168</td></tr><tr><td>eval/runtime</td><td>4.1323</td></tr><tr><td>eval/samples_per_second</td><td>277.569</td></tr><tr><td>eval/steps_per_second</td><td>2.178</td></tr><tr><td>total_flos</td><td>5436463295692800.0</td></tr><tr><td>train/epoch</td><td>8</td></tr><tr><td>train/global_step</td><td>648</td></tr><tr><td>train/grad_norm</td><td>1.25375</td></tr><tr><td>train/learning_rate</td><td>0.0</td></tr><tr><td>train/loss</td><td>0.8522</td></tr><tr><td>train_loss</td><td>1.79086</td></tr><tr><td>train_runtime</td><td>1006.4489</td></tr><tr><td>train_samples_per_second</td><td>82.031</td></tr><tr><td>train_steps_per_second</td><td>0.644</td></tr></table><br/></div></div>"
          },
          "metadata": {}
        },
        {
          "output_type": "display_data",
          "data": {
            "text/plain": "<IPython.core.display.HTML object>",
            "text/html": " View run <strong style=\"color:#cdcd00\">lucky-meadow-1</strong> at: <a href='https://wandb.ai/radyasrn-mipt/uncategorized/runs/jycs93of' target=\"_blank\">https://wandb.ai/radyasrn-mipt/uncategorized/runs/jycs93of</a><br> View project at: <a href='https://wandb.ai/radyasrn-mipt/uncategorized' target=\"_blank\">https://wandb.ai/radyasrn-mipt/uncategorized</a><br>Synced 5 W&B file(s), 0 media file(s), 0 artifact file(s) and 0 other file(s)"
          },
          "metadata": {}
        },
        {
          "output_type": "display_data",
          "data": {
            "text/plain": "<IPython.core.display.HTML object>",
            "text/html": "Find logs at: <code>./wandb/run-20250514_164133-jycs93of/logs</code>"
          },
          "metadata": {}
        }
      ],
      "execution_count": null
    },
    {
      "id": "471bf574-243e-48f6-a8e0-ec44ffc2ef88",
      "cell_type": "markdown",
      "source": [
        "Then we will save the model:"
      ],
      "metadata": {
        "id": "471bf574-243e-48f6-a8e0-ec44ffc2ef88"
      }
    },
    {
      "id": "d8fe7cda-7728-4809-90fe-6bdd4ea1c206",
      "cell_type": "code",
      "source": [
        "trainer.save_model(\"./rubert-intent-cls-122-classes-model\")\n",
        "tokenizer.save_pretrained(\"./rubert-intent-cls-122-classes-model\")"
      ],
      "metadata": {
        "trusted": true,
        "execution": {
          "iopub.status.busy": "2025-05-14T17:11:11.076345Z",
          "iopub.execute_input": "2025-05-14T17:11:11.077186Z",
          "iopub.status.idle": "2025-05-14T17:11:12.628733Z",
          "shell.execute_reply.started": "2025-05-14T17:11:11.077159Z",
          "shell.execute_reply": "2025-05-14T17:11:12.628105Z"
        },
        "id": "d8fe7cda-7728-4809-90fe-6bdd4ea1c206",
        "outputId": "81f4f84b-6931-4464-f03e-11251f193008"
      },
      "outputs": [
        {
          "execution_count": 38,
          "output_type": "execute_result",
          "data": {
            "text/plain": "('./rubert-intent-cls-122-classes-model/tokenizer_config.json',\n './rubert-intent-cls-122-classes-model/special_tokens_map.json',\n './rubert-intent-cls-122-classes-model/vocab.txt',\n './rubert-intent-cls-122-classes-model/added_tokens.json',\n './rubert-intent-cls-122-classes-model/tokenizer.json')"
          },
          "metadata": {}
        }
      ],
      "execution_count": null
    },
    {
      "id": "ad5d3ad7-042f-4c4b-ba77-d093ee4b8bd1",
      "cell_type": "markdown",
      "source": [
        "Let's look at the training history:"
      ],
      "metadata": {
        "id": "ad5d3ad7-042f-4c4b-ba77-d093ee4b8bd1"
      }
    },
    {
      "id": "b311a7c4-50aa-4013-a247-e2fd9ccbbe1f",
      "cell_type": "code",
      "source": [
        "plot_wandb_metrics(\n",
        "    run_path='radyasrn-mipt/NLP-spring-2025/jycs93of',\n",
        "    metric_keys=['eval/accuracy'],\n",
        "    title_suffix='Accuracy'\n",
        ")"
      ],
      "metadata": {
        "trusted": true,
        "execution": {
          "iopub.status.busy": "2025-09-04T09:03:25.208277Z",
          "iopub.execute_input": "2025-09-04T09:03:25.208947Z",
          "iopub.status.idle": "2025-09-04T09:03:26.615715Z",
          "shell.execute_reply.started": "2025-09-04T09:03:25.208920Z",
          "shell.execute_reply": "2025-09-04T09:03:26.614795Z"
        },
        "id": "b311a7c4-50aa-4013-a247-e2fd9ccbbe1f",
        "outputId": "79c0d400-986e-4ac9-c94f-ce03b410f4ec"
      },
      "outputs": [
        {
          "name": "stderr",
          "text": "/tmp/ipykernel_31/3774981854.py:13: FutureWarning: DataFrame.fillna with 'method' is deprecated and will raise in a future version. Use obj.ffill() or obj.bfill() instead.\n  history = history.fillna(method='ffill').fillna(method='bfill')\n",
          "output_type": "stream"
        },
        {
          "output_type": "display_data",
          "data": {
            "text/plain": "<Figure size 1400x500 with 2 Axes>",
            "image/png": "[encoded data removed]"
          },
          "metadata": {}
        }
      ],
      "execution_count": null
    },
    {
      "id": "5cbab64a-9bff-4c59-b6b5-a12b5f9418fb",
      "cell_type": "markdown",
      "source": [
        "Now let's look at the results on the test data:"
      ],
      "metadata": {
        "id": "5cbab64a-9bff-4c59-b6b5-a12b5f9418fb"
      }
    },
    {
      "id": "3a584e70-3bcf-4112-9045-74067ce5adea",
      "cell_type": "code",
      "source": [
        "model = AutoModelForSequenceClassification.from_pretrained(\n",
        "    \"./rubert-intent-cls-122-classes-model\", num_labels=122\n",
        ")\n",
        "model.eval()\n",
        "\n",
        "dataloader = DataLoader(test_dataset, batch_size=128)\n",
        "\n",
        "all_preds = []\n",
        "all_labels = []\n",
        "\n",
        "with torch.no_grad():\n",
        "    for batch in tqdm(dataloader, leave=False):\n",
        "        inputs = {k: v.to(model.device) for k, v in batch.items() if k != \"label\"}\n",
        "        labels = batch[\"label\"].to(model.device)\n",
        "        logits = model(**inputs).logits\n",
        "        preds = logits.argmax(dim=-1)\n",
        "        all_preds.append(preds.cpu())\n",
        "        all_labels.append(labels.cpu())\n",
        "\n",
        "all_preds = torch.cat(all_preds).numpy()\n",
        "all_labels = torch.cat(all_labels).numpy()\n",
        "\n",
        "acc_122_classes = accuracy_score(all_labels, all_preds)"
      ],
      "metadata": {
        "trusted": true,
        "execution": {
          "iopub.status.busy": "2025-05-14T17:11:27.032909Z",
          "iopub.execute_input": "2025-05-14T17:11:27.033188Z",
          "iopub.status.idle": "2025-05-14T17:12:57.916302Z",
          "shell.execute_reply.started": "2025-05-14T17:11:27.033165Z",
          "shell.execute_reply": "2025-05-14T17:12:57.915493Z"
        },
        "colab": {
          "referenced_widgets": [
            ""
          ]
        },
        "id": "3a584e70-3bcf-4112-9045-74067ce5adea",
        "outputId": "3f636538-0b05-48ba-89e0-a8f7235ad89a"
      },
      "outputs": [
        {
          "output_type": "display_data",
          "data": {
            "text/plain": "  0%|          | 0/6 [00:00<?, ?it/s]",
            "application/vnd.jupyter.widget-view+json": {
              "version_major": 2,
              "version_minor": 0,
              "model_id": ""
            }
          },
          "metadata": {}
        }
      ],
      "execution_count": null
    },
    {
      "id": "e3f7dd76-2e2c-4551-82de-14dfa8e40b63",
      "cell_type": "code",
      "source": [
        "print(f'{acc_122_classes:.3f}')"
      ],
      "metadata": {
        "trusted": true,
        "execution": {
          "iopub.status.busy": "2025-05-14T20:25:18.992530Z",
          "iopub.execute_input": "2025-05-14T20:25:18.993082Z",
          "iopub.status.idle": "2025-05-14T20:25:18.997185Z",
          "shell.execute_reply.started": "2025-05-14T20:25:18.993059Z",
          "shell.execute_reply": "2025-05-14T20:25:18.996313Z"
        },
        "id": "e3f7dd76-2e2c-4551-82de-14dfa8e40b63",
        "outputId": "c595dbc9-4df7-488c-e6f3-dd309a9c85fc"
      },
      "outputs": [
        {
          "name": "stdout",
          "text": "0.934\n",
          "output_type": "stream"
        }
      ],
      "execution_count": null
    },
    {
      "id": "5db53d38-fb06-44b8-b1b4-96bad57ddac2",
      "cell_type": "markdown",
      "source": [
        "The result is slightly worse than that of the first model, but it should be noted that not all classes are taken into account here. Next, we will prepare the data for all classes for further training:"
      ],
      "metadata": {
        "id": "5db53d38-fb06-44b8-b1b4-96bad57ddac2"
      }
    },
    {
      "id": "61aa9eec-578c-4921-97d8-8ac10c4b8c28",
      "cell_type": "code",
      "source": [
        "train_df = pd.read_csv(\"/kaggle/input/qa-intents-dataset-university-domain/dataset_train.tsv\", sep=\"\\t\", header=None, names=[\"text\", \"label\"])\n",
        "test_df = pd.read_csv(\"/kaggle/input/qa-intents-dataset-university-domain/dataset_test.tsv\", sep=\"\\t\", header=None, names=[\"text\", \"label\"])\n",
        "\n",
        "le_full = LabelEncoder()\n",
        "train_df[\"label_id\"] = le_full.fit_transform(train_df[\"label\"])\n",
        "test_df[\"label_id\"] = le_full.transform(test_df[\"label\"])\n",
        "\n",
        "train_dataset = Dataset.from_pandas(train_df[[\"text\", \"label_id\"]])\n",
        "test_dataset = Dataset.from_pandas(test_df[[\"text\", \"label_id\"]])\n",
        "\n",
        "train_dataset = train_dataset.map(tokenize).remove_columns([\"text\"]).with_format(\"torch\")\n",
        "test_dataset = test_dataset.map(tokenize).remove_columns([\"text\"]).with_format(\"torch\")\n",
        "\n",
        "train_indices, val_indices = train_test_split(\n",
        "    list(range(len(train_dataset))), test_size=0.1, stratify=train_df[\"label_id\"], random_state=42\n",
        ")\n",
        "\n",
        "train_subset = train_dataset.select(train_indices)\n",
        "val_subset = train_dataset.select(val_indices)"
      ],
      "metadata": {
        "trusted": true,
        "execution": {
          "iopub.status.busy": "2025-05-14T17:17:31.888916Z",
          "iopub.execute_input": "2025-05-14T17:17:31.889553Z",
          "iopub.status.idle": "2025-05-14T17:17:35.685678Z",
          "shell.execute_reply.started": "2025-05-14T17:17:31.889531Z",
          "shell.execute_reply": "2025-05-14T17:17:35.685141Z"
        },
        "colab": {
          "referenced_widgets": [
            "f4525fd81acd4cdcb7b476151ddd8d8a",
            "f526c72d0762481aa8eec50abfbdfe23"
          ]
        },
        "id": "61aa9eec-578c-4921-97d8-8ac10c4b8c28",
        "outputId": "75ff179c-8c93-45ec-e97f-4d94d578b89f"
      },
      "outputs": [
        {
          "output_type": "display_data",
          "data": {
            "text/plain": "Map:   0%|          | 0/13230 [00:00<?, ? examples/s]",
            "application/vnd.jupyter.widget-view+json": {
              "version_major": 2,
              "version_minor": 0,
              "model_id": "f4525fd81acd4cdcb7b476151ddd8d8a"
            }
          },
          "metadata": {}
        },
        {
          "output_type": "display_data",
          "data": {
            "text/plain": "Map:   0%|          | 0/883 [00:00<?, ? examples/s]",
            "application/vnd.jupyter.widget-view+json": {
              "version_major": 2,
              "version_minor": 0,
              "model_id": "f526c72d0762481aa8eec50abfbdfe23"
            }
          },
          "metadata": {}
        }
      ],
      "execution_count": null
    },
    {
      "id": "c35283ae-a1c1-4290-82db-81c541511a67",
      "cell_type": "markdown",
      "source": [
        "Let's get representations from a function that will receive the representation `[CLS]` token for all texts after passing through the transformer:"
      ],
      "metadata": {
        "id": "c35283ae-a1c1-4290-82db-81c541511a67"
      }
    },
    {
      "id": "7ee919c6-a6fc-4834-becf-9b7062e2727b",
      "cell_type": "code",
      "source": [
        "model = AutoModel.from_pretrained(\"./rubert-intent-cls-122-classes-model\").cuda()\n",
        "model.eval()\n",
        "\n",
        "X_train, y_train = extract_cls(train_subset, model)\n",
        "X_val, y_val = extract_cls(val_subset, model)\n",
        "X_test, y_test = extract_cls(test_dataset, model)\n",
        "\n",
        "os.makedirs(\"repr_cache\", exist_ok=True)\n",
        "torch.save((X_train, y_train), \"repr_cache/train.pt\")\n",
        "torch.save((X_val, y_val), \"repr_cache/val.pt\")\n",
        "torch.save((X_test, y_test), \"repr_cache/test.pt\")"
      ],
      "metadata": {
        "trusted": true,
        "execution": {
          "iopub.status.busy": "2025-05-14T17:19:35.075084Z",
          "iopub.execute_input": "2025-05-14T17:19:35.075386Z",
          "iopub.status.idle": "2025-05-14T17:20:24.991850Z",
          "shell.execute_reply.started": "2025-05-14T17:19:35.075363Z",
          "shell.execute_reply": "2025-05-14T17:20:24.991129Z"
        },
        "colab": {
          "referenced_widgets": [
            ""
          ]
        },
        "id": "7ee919c6-a6fc-4834-becf-9b7062e2727b",
        "outputId": "5d7a06c2-e7b3-4b96-8a05-537f1de2a974"
      },
      "outputs": [
        {
          "output_type": "display_data",
          "data": {
            "text/plain": "  0%|          | 0/187 [00:00<?, ?it/s]",
            "application/vnd.jupyter.widget-view+json": {
              "version_major": 2,
              "version_minor": 0,
              "model_id": ""
            }
          },
          "metadata": {}
        },
        {
          "output_type": "display_data",
          "data": {
            "text/plain": "  0%|          | 0/21 [00:00<?, ?it/s]",
            "application/vnd.jupyter.widget-view+json": {
              "version_major": 2,
              "version_minor": 0,
              "model_id": ""
            }
          },
          "metadata": {}
        },
        {
          "output_type": "display_data",
          "data": {
            "text/plain": "  0%|          | 0/14 [00:00<?, ?it/s]",
            "application/vnd.jupyter.widget-view+json": {
              "version_major": 2,
              "version_minor": 0,
              "model_id": ""
            }
          },
          "metadata": {}
        }
      ],
      "execution_count": null
    },
    {
      "id": "0fa25156-6576-47bf-88e4-a5a439f4455b",
      "cell_type": "markdown",
      "source": [
        "Now we will train the classifier with a higher `learning_rate=1e-3`, the same `weight_decay=0.01`, and an increased number of epochs of $30$, since this is a fully connected network rather than a transformer:"
      ],
      "metadata": {
        "id": "0fa25156-6576-47bf-88e4-a5a439f4455b"
      }
    },
    {
      "id": "9259752f-7f1a-4d14-a70d-8372f3116aa3",
      "cell_type": "code",
      "source": [
        "train_ds = Dataset.from_dict({\"input_ids\": X_train, \"label\": y_train})\n",
        "val_ds = Dataset.from_dict({\"input_ids\": X_val, \"label\": y_val})\n",
        "\n",
        "wandb.init(project=\"NLP-spring-2025\", name=\"linear-intent-cls-142-classes-run-2\")\n",
        "\n",
        "model = LinearClassifier(in_dim=X_train.shape[1], num_classes=len(le_full.classes_))\n",
        "\n",
        "training_args = TrainingArguments(\n",
        "    output_dir=\"./results-linear-intent-cls-142-classes\",\n",
        "    eval_strategy=\"epoch\",\n",
        "    save_strategy=\"epoch\",\n",
        "    learning_rate=1e-3,\n",
        "    weight_decay=0.01,\n",
        "    per_device_train_batch_size=128,\n",
        "    per_device_eval_batch_size=128,\n",
        "    num_train_epochs=30,\n",
        "    logging_steps=50,\n",
        "    load_best_model_at_end=True,\n",
        "    save_total_limit=1,\n",
        "    metric_for_best_model=\"accuracy\",\n",
        "    greater_is_better=True,\n",
        "    report_to=\"wandb\"\n",
        ")\n",
        "\n",
        "trainer = Trainer(\n",
        "    model=model,\n",
        "    args=training_args,\n",
        "    train_dataset=train_ds,\n",
        "    eval_dataset=val_ds,\n",
        "    compute_metrics=compute_accuracy\n",
        ")\n",
        "\n",
        "trainer.train()"
      ],
      "metadata": {
        "trusted": true,
        "execution": {
          "iopub.status.busy": "2025-05-14T17:23:35.440211Z",
          "iopub.execute_input": "2025-05-14T17:23:35.441020Z",
          "iopub.status.idle": "2025-05-14T17:26:45.132273Z",
          "shell.execute_reply.started": "2025-05-14T17:23:35.440994Z",
          "shell.execute_reply": "2025-05-14T17:26:45.131727Z"
        },
        "id": "9259752f-7f1a-4d14-a70d-8372f3116aa3",
        "outputId": "3b79c630-a231-4a8c-b996-2e072fc16992"
      },
      "outputs": [
        {
          "output_type": "display_data",
          "data": {
            "text/plain": "<IPython.core.display.HTML object>",
            "text/html": "Tracking run with wandb version 0.19.6"
          },
          "metadata": {}
        },
        {
          "output_type": "display_data",
          "data": {
            "text/plain": "<IPython.core.display.HTML object>",
            "text/html": "Run data is saved locally in <code>/kaggle/working/wandb/run-20250514_172335-d4kte2qt</code>"
          },
          "metadata": {}
        },
        {
          "output_type": "display_data",
          "data": {
            "text/plain": "<IPython.core.display.HTML object>",
            "text/html": "Syncing run <strong><a href='https://wandb.ai/radyasrn-mipt/NLP-spring-2025/runs/d4kte2qt' target=\"_blank\">linear-intent-cls-142-classes-run-2</a></strong> to <a href='https://wandb.ai/radyasrn-mipt/NLP-spring-2025' target=\"_blank\">Weights & Biases</a> (<a href='https://wandb.me/developer-guide' target=\"_blank\">docs</a>)<br>"
          },
          "metadata": {}
        },
        {
          "output_type": "display_data",
          "data": {
            "text/plain": "<IPython.core.display.HTML object>",
            "text/html": " View project at <a href='https://wandb.ai/radyasrn-mipt/NLP-spring-2025' target=\"_blank\">https://wandb.ai/radyasrn-mipt/NLP-spring-2025</a>"
          },
          "metadata": {}
        },
        {
          "output_type": "display_data",
          "data": {
            "text/plain": "<IPython.core.display.HTML object>",
            "text/html": " View run at <a href='https://wandb.ai/radyasrn-mipt/NLP-spring-2025/runs/d4kte2qt' target=\"_blank\">https://wandb.ai/radyasrn-mipt/NLP-spring-2025/runs/d4kte2qt</a>"
          },
          "metadata": {}
        },
        {
          "output_type": "display_data",
          "data": {
            "text/plain": "<IPython.core.display.HTML object>",
            "text/html": "\n    <div>\n      \n      <progress value='2820' max='2820' style='width:300px; height:20px; vertical-align: middle;'></progress>\n      [2820/2820 03:02, Epoch 30/30]\n    </div>\n    <table border=\"1\" class=\"dataframe\">\n  <thead>\n <tr style=\"text-align: left;\">\n      <th>Epoch</th>\n      <th>Training Loss</th>\n      <th>Validation Loss</th>\n      <th>Accuracy</th>\n    </tr>\n  </thead>\n  <tbody>\n    <tr>\n      <td>1</td>\n      <td>1.330300</td>\n      <td>0.160663</td>\n      <td>0.943311</td>\n    </tr>\n    <tr>\n      <td>2</td>\n      <td>0.149000</td>\n      <td>0.129802</td>\n      <td>0.950113</td>\n    </tr>\n    <tr>\n      <td>3</td>\n      <td>0.127800</td>\n      <td>0.124666</td>\n      <td>0.950869</td>\n    </tr>\n    <tr>\n      <td>4</td>\n      <td>0.116700</td>\n      <td>0.116464</td>\n      <td>0.949358</td>\n    </tr>\n    <tr>\n      <td>5</td>\n      <td>0.117000</td>\n      <td>0.117555</td>\n      <td>0.952381</td>\n    </tr>\n    <tr>\n      <td>6</td>\n      <td>0.103600</td>\n      <td>0.118128</td>\n      <td>0.956160</td>\n    </tr>\n    <tr>\n      <td>7</td>\n      <td>0.099100</td>\n      <td>0.109156</td>\n      <td>0.958428</td>\n    </tr>\n    <tr>\n      <td>8</td>\n      <td>0.100200</td>\n      <td>0.108029</td>\n      <td>0.959940</td>\n    </tr>\n    <tr>\n      <td>9</td>\n      <td>0.099700</td>\n      <td>0.108506</td>\n      <td>0.957672</td>\n    </tr>\n    <tr>\n      <td>10</td>\n      <td>0.101000</td>\n      <td>0.104311</td>\n      <td>0.956160</td>\n    </tr>\n    <tr>\n      <td>11</td>\n      <td>0.096500</td>\n      <td>0.102753</td>\n      <td>0.959940</td>\n    </tr>\n    <tr>\n      <td>12</td>\n      <td>0.096300</td>\n      <td>0.106847</td>\n      <td>0.956916</td>\n    </tr>\n    <tr>\n      <td>13</td>\n      <td>0.091100</td>\n      <td>0.102653</td>\n      <td>0.958428</td>\n    </tr>\n    <tr>\n      <td>14</td>\n      <td>0.098000</td>\n      <td>0.102674</td>\n      <td>0.959940</td>\n    </tr>\n    <tr>\n      <td>15</td>\n      <td>0.095900</td>\n      <td>0.105400</td>\n      <td>0.959184</td>\n    </tr>\n    <tr>\n      <td>16</td>\n      <td>0.098200</td>\n      <td>0.101573</td>\n      <td>0.955404</td>\n    </tr>\n    <tr>\n      <td>17</td>\n      <td>0.090800</td>\n      <td>0.100829</td>\n      <td>0.960695</td>\n    </tr>\n    <tr>\n      <td>18</td>\n      <td>0.094800</td>\n      <td>0.101032</td>\n      <td>0.960695</td>\n    </tr>\n    <tr>\n      <td>19</td>\n      <td>0.094500</td>\n      <td>0.100790</td>\n      <td>0.960695</td>\n    </tr>\n    <tr>\n      <td>20</td>\n      <td>0.097400</td>\n      <td>0.101034</td>\n      <td>0.956916</td>\n    </tr>\n    <tr>\n      <td>21</td>\n      <td>0.093900</td>\n      <td>0.099597</td>\n      <td>0.959940</td>\n    </tr>\n    <tr>\n      <td>22</td>\n      <td>0.086400</td>\n      <td>0.100041</td>\n      <td>0.959940</td>\n    </tr>\n    <tr>\n      <td>23</td>\n      <td>0.096000</td>\n      <td>0.098888</td>\n      <td>0.956160</td>\n    </tr>\n    <tr>\n      <td>24</td>\n      <td>0.089400</td>\n      <td>0.099283</td>\n      <td>0.956160</td>\n    </tr>\n    <tr>\n      <td>25</td>\n      <td>0.081800</td>\n      <td>0.098947</td>\n      <td>0.956160</td>\n    </tr>\n    <tr>\n      <td>26</td>\n      <td>0.086700</td>\n      <td>0.098951</td>\n      <td>0.956160</td>\n    </tr>\n    <tr>\n      <td>27</td>\n      <td>0.085900</td>\n      <td>0.098802</td>\n      <td>0.956160</td>\n    </tr>\n    <tr>\n      <td>28</td>\n      <td>0.094900</td>\n      <td>0.098952</td>\n      <td>0.957672</td>\n    </tr>\n    <tr>\n      <td>29</td>\n      <td>0.087100</td>\n      <td>0.098822</td>\n      <td>0.956160</td>\n    </tr>\n    <tr>\n      <td>30</td>\n      <td>0.088700</td>\n      <td>0.098736</td>\n      <td>0.956160</td>\n    </tr>\n  </tbody>\n</table><p>"
          },
          "metadata": {}
        },
        {
          "execution_count": 58,
          "output_type": "execute_result",
          "data": {
            "text/plain": "TrainOutput(global_step=2820, training_loss=0.12266986357404831, metrics={'train_runtime': 182.2138, 'train_samples_per_second': 1960.39, 'train_steps_per_second': 15.476, 'total_flos': 0.0, 'train_loss': 0.12266986357404831, 'epoch': 30.0})"
          },
          "metadata": {}
        }
      ],
      "execution_count": null
    },
    {
      "id": "aed3ad4c-6f9b-4b6c-8f37-ab94f3525109",
      "cell_type": "markdown",
      "source": [
        "Then we will finish the run:"
      ],
      "metadata": {
        "id": "aed3ad4c-6f9b-4b6c-8f37-ab94f3525109"
      }
    },
    {
      "id": "80d39ae6-b751-4800-a00b-9c7f365b89fd",
      "cell_type": "code",
      "source": [
        "wandb.finish()"
      ],
      "metadata": {
        "trusted": true,
        "execution": {
          "iopub.status.busy": "2025-05-14T17:27:19.196466Z",
          "iopub.execute_input": "2025-05-14T17:27:19.196780Z",
          "iopub.status.idle": "2025-05-14T17:27:20.804912Z",
          "shell.execute_reply.started": "2025-05-14T17:27:19.196758Z",
          "shell.execute_reply": "2025-05-14T17:27:20.804337Z"
        },
        "id": "80d39ae6-b751-4800-a00b-9c7f365b89fd",
        "outputId": "fdecaae4-1ba4-4bb7-ab31-16a3f8dbf217"
      },
      "outputs": [
        {
          "output_type": "display_data",
          "data": {
            "text/plain": "<IPython.core.display.HTML object>",
            "text/html": ""
          },
          "metadata": {}
        },
        {
          "output_type": "display_data",
          "data": {
            "text/plain": "<IPython.core.display.HTML object>",
            "text/html": "<br>    <style><br>        .wandb-row {<br>            display: flex;<br>            flex-direction: row;<br>            flex-wrap: wrap;<br>            justify-content: flex-start;<br>            width: 100%;<br>        }<br>        .wandb-col {<br>            display: flex;<br>            flex-direction: column;<br>            flex-basis: 100%;<br>            flex: 1;<br>            padding: 10px;<br>        }<br>    </style><br><div class=\"wandb-row\"><div class=\"wandb-col\"><h3>Run history:</h3><br/><table class=\"wandb\"><tr><td>eval/accuracy</td><td>▁▄▄▃▅▆▇█▇▆█▆▇█▇▆███▆██▆▆▆▆▆▇▆▆</td></tr><tr><td>eval/loss</td><td>█▅▄▃▃▃▂▂▂▂▁▂▁▁▂▁▁▁▁▁▁▁▁▁▁▁▁▁▁▁</td></tr><tr><td>eval/runtime</td><td>▂█▂▂▄▁▂▂▂▃▂▁▂▂▃▂▁▂▃▆▂▄▃▃▂▁▂▄▂▄</td></tr><tr><td>eval/samples_per_second</td><td>▇▁▇▇▅█▇▇▇▆▇█▇▇▆▇█▇▆▃▇▅▆▆▇█▇▅▇▅</td></tr><tr><td>eval/steps_per_second</td><td>▇▁▇▇▅█▇▇▇▆▇█▇▇▆▇█▇▆▃▇▅▆▆▇█▇▅▇▅</td></tr><tr><td>train/epoch</td><td>▁▁▁▁▁▂▂▂▂▂▂▃▃▃▃▃▄▄▄▄▄▅▅▅▅▆▆▆▆▇▇▇▇▇▇█████</td></tr><tr><td>train/global_step</td><td>▁▁▁▁▁▂▂▂▂▂▃▃▃▃▃▃▄▄▄▄▅▅▅▅▅▆▆▆▆▆▇▇▇▇▇▇████</td></tr><tr><td>train/grad_norm</td><td>█▄▅▅▆▆▅▅▆▅▅▇▄▄▄▃▃▆▃▄▄▅▅▄▃▄▅▃▅▄▅▃▆▁▆▆▆▅▃▄</td></tr><tr><td>train/learning_rate</td><td>████▇▇▇▇▇▇▆▆▆▆▆▆▅▅▅▅▄▄▄▄▄▄▃▃▃▃▃▃▂▂▂▂▂▂▁▁</td></tr><tr><td>train/loss</td><td>█▆▄▄▃▃▃▃▂▃▂▂▂▂▂▂▂▂▂▂▂▂▂▂▁▂▂▂▂▂▂▂▂▂▁▁▂▂▁▁</td></tr></table><br/></div><div class=\"wandb-col\"><h3>Run summary:</h3><br/><table class=\"wandb\"><tr><td>eval/accuracy</td><td>0.95616</td></tr><tr><td>eval/loss</td><td>0.09874</td></tr><tr><td>eval/runtime</td><td>0.6082</td></tr><tr><td>eval/samples_per_second</td><td>2175.188</td></tr><tr><td>eval/steps_per_second</td><td>18.085</td></tr><tr><td>total_flos</td><td>0</td></tr><tr><td>train/epoch</td><td>30</td></tr><tr><td>train/global_step</td><td>2820</td></tr><tr><td>train/grad_norm</td><td>0.30203</td></tr><tr><td>train/learning_rate</td><td>1e-05</td></tr><tr><td>train/loss</td><td>0.0887</td></tr><tr><td>train_loss</td><td>0.12267</td></tr><tr><td>train_runtime</td><td>182.2138</td></tr><tr><td>train_samples_per_second</td><td>1960.39</td></tr><tr><td>train_steps_per_second</td><td>15.476</td></tr></table><br/></div></div>"
          },
          "metadata": {}
        },
        {
          "output_type": "display_data",
          "data": {
            "text/plain": "<IPython.core.display.HTML object>",
            "text/html": " View run <strong style=\"color:#cdcd00\">linear-intent-cls-142-classes-run-2</strong> at: <a href='https://wandb.ai/radyasrn-mipt/NLP-spring-2025/runs/d4kte2qt' target=\"_blank\">https://wandb.ai/radyasrn-mipt/NLP-spring-2025/runs/d4kte2qt</a><br> View project at: <a href='https://wandb.ai/radyasrn-mipt/NLP-spring-2025' target=\"_blank\">https://wandb.ai/radyasrn-mipt/NLP-spring-2025</a><br>Synced 5 W&B file(s), 0 media file(s), 0 artifact file(s) and 0 other file(s)"
          },
          "metadata": {}
        },
        {
          "output_type": "display_data",
          "data": {
            "text/plain": "<IPython.core.display.HTML object>",
            "text/html": "Find logs at: <code>./wandb/run-20250514_172335-d4kte2qt/logs</code>"
          },
          "metadata": {}
        }
      ],
      "execution_count": null
    },
    {
      "id": "48b6a45c-8e23-455c-b4a2-f09ae127f9fb",
      "cell_type": "markdown",
      "source": [
        "Then we will save the model:"
      ],
      "metadata": {
        "id": "48b6a45c-8e23-455c-b4a2-f09ae127f9fb"
      }
    },
    {
      "id": "d5956971-284c-48f4-a679-0c8db2770ff3",
      "cell_type": "code",
      "source": [
        "trainer.save_model(\"./linear-intent-cls-142-classes-model\")\n",
        "tokenizer.save_pretrained(\"./linear-intent-cls-142-classes-model\")"
      ],
      "metadata": {
        "trusted": true,
        "execution": {
          "iopub.status.busy": "2025-05-14T17:27:25.199993Z",
          "iopub.execute_input": "2025-05-14T17:27:25.200252Z",
          "iopub.status.idle": "2025-05-14T17:27:25.278234Z",
          "shell.execute_reply.started": "2025-05-14T17:27:25.200233Z",
          "shell.execute_reply": "2025-05-14T17:27:25.277681Z"
        },
        "id": "d5956971-284c-48f4-a679-0c8db2770ff3",
        "outputId": "94f4c8b5-dce7-43f4-87e7-7fb0b136b442"
      },
      "outputs": [
        {
          "execution_count": 60,
          "output_type": "execute_result",
          "data": {
            "text/plain": "('./linear-intent-cls-142-classes-model/tokenizer_config.json',\n './linear-intent-cls-142-classes-model/special_tokens_map.json',\n './linear-intent-cls-142-classes-model/vocab.txt',\n './linear-intent-cls-142-classes-model/added_tokens.json',\n './linear-intent-cls-142-classes-model/tokenizer.json')"
          },
          "metadata": {}
        }
      ],
      "execution_count": null
    },
    {
      "id": "a3e5f428-2282-4b11-9b7b-4d3bbdffa92d",
      "cell_type": "markdown",
      "source": [
        "Let's look at the training history:"
      ],
      "metadata": {
        "id": "a3e5f428-2282-4b11-9b7b-4d3bbdffa92d"
      }
    },
    {
      "id": "9a7f94c4-c406-4d2c-9a73-586e61cd5b62",
      "cell_type": "code",
      "source": [
        "plot_wandb_metrics(\n",
        "    run_path='radyasrn-mipt/NLP-spring-2025/d4kte2qt',\n",
        "    metric_keys=['eval/accuracy'],\n",
        "    title_suffix='Accuracy'\n",
        ")"
      ],
      "metadata": {
        "trusted": true,
        "execution": {
          "iopub.status.busy": "2025-09-04T09:03:34.257598Z",
          "iopub.execute_input": "2025-09-04T09:03:34.257894Z",
          "iopub.status.idle": "2025-09-04T09:03:35.647834Z",
          "shell.execute_reply.started": "2025-09-04T09:03:34.257870Z",
          "shell.execute_reply": "2025-09-04T09:03:35.647001Z"
        },
        "id": "9a7f94c4-c406-4d2c-9a73-586e61cd5b62",
        "outputId": "de12dd2c-ba8b-4247-89f6-614adbd86b2e"
      },
      "outputs": [
        {
          "name": "stderr",
          "text": "/tmp/ipykernel_31/3774981854.py:13: FutureWarning: DataFrame.fillna with 'method' is deprecated and will raise in a future version. Use obj.ffill() or obj.bfill() instead.\n  history = history.fillna(method='ffill').fillna(method='bfill')\n",
          "output_type": "stream"
        },
        {
          "output_type": "display_data",
          "data": {
            "text/plain": "<Figure size 1400x500 with 2 Axes>",
            "image/png": "[encoded data removed]"
          },
          "metadata": {}
        }
      ],
      "execution_count": null
    },
    {
      "id": "32631807-b6bf-48a4-a8cf-444be14c0f41",
      "cell_type": "markdown",
      "source": [
        "We can see that accuracy is high. Let's look at the results on the test data:"
      ],
      "metadata": {
        "id": "32631807-b6bf-48a4-a8cf-444be14c0f41"
      }
    },
    {
      "id": "7d04fc98-4011-4282-a9f4-2b6156b2aee7",
      "cell_type": "code",
      "source": [
        "test_ds = TensorDataset(X_test, y_test)\n",
        "\n",
        "model = LinearClassifier(in_dim=768, num_classes=142)\n",
        "state_dict = load_file(\"./linear-intent-cls-142-classes-model/model.safetensors\")\n",
        "model.load_state_dict(state_dict)\n",
        "model.cuda()\n",
        "model.eval()\n",
        "\n",
        "dataloader = DataLoader(test_ds, batch_size=128)\n",
        "\n",
        "all_preds = []\n",
        "all_labels = []\n",
        "\n",
        "with torch.no_grad():\n",
        "    for batch in tqdm(dataloader, leave=False):\n",
        "        x, y = batch\n",
        "        x = x.to('cuda')\n",
        "        y = y.to('cuda')\n",
        "        logits = model(input_ids=x).logits\n",
        "        preds = logits.argmax(dim=-1)\n",
        "        all_preds.append(preds.cpu())\n",
        "        all_labels.append(y.cpu())\n",
        "\n",
        "all_preds = torch.cat(all_preds).numpy()\n",
        "all_labels = torch.cat(all_labels).numpy()\n",
        "\n",
        "acc_142_classes = accuracy_score(all_labels, all_preds)"
      ],
      "metadata": {
        "trusted": true,
        "execution": {
          "iopub.status.busy": "2025-05-14T17:35:39.100951Z",
          "iopub.execute_input": "2025-05-14T17:35:39.101250Z",
          "iopub.status.idle": "2025-05-14T17:35:39.155102Z",
          "shell.execute_reply.started": "2025-05-14T17:35:39.101228Z",
          "shell.execute_reply": "2025-05-14T17:35:39.154289Z"
        },
        "colab": {
          "referenced_widgets": [
            ""
          ]
        },
        "id": "7d04fc98-4011-4282-a9f4-2b6156b2aee7",
        "outputId": "655f6bb4-eab9-4880-e892-80645536eccb"
      },
      "outputs": [
        {
          "output_type": "display_data",
          "data": {
            "text/plain": "  0%|          | 0/7 [00:00<?, ?it/s]",
            "application/vnd.jupyter.widget-view+json": {
              "version_major": 2,
              "version_minor": 0,
              "model_id": ""
            }
          },
          "metadata": {}
        }
      ],
      "execution_count": null
    },
    {
      "id": "64b454f2-2f3c-45bb-aac9-e75d7f799409",
      "cell_type": "code",
      "source": [
        "print(f'{acc_142_classes:.3f}')"
      ],
      "metadata": {
        "trusted": true,
        "execution": {
          "iopub.status.busy": "2025-05-14T20:30:57.042259Z",
          "iopub.execute_input": "2025-05-14T20:30:57.042559Z",
          "iopub.status.idle": "2025-05-14T20:30:57.046945Z",
          "shell.execute_reply.started": "2025-05-14T20:30:57.042536Z",
          "shell.execute_reply": "2025-05-14T20:30:57.046296Z"
        },
        "id": "64b454f2-2f3c-45bb-aac9-e75d7f799409",
        "outputId": "fde22e87-fb6c-4fc7-bb04-76ff1cb238c1"
      },
      "outputs": [
        {
          "name": "stdout",
          "text": "0.949\n",
          "output_type": "stream"
        }
      ],
      "execution_count": null
    },
    {
      "cell_type": "markdown",
      "source": [
        "<a name=\"step-4-rubert-model-with-augmentex-augmentations\"></a>\n",
        "<b><font size=4>**Step $4$</font></b> <b><font size=2>(RuBERT Model with Augmentex Augmentations):**</font></b>"
      ],
      "metadata": {
        "id": "3qmLcaCrsJaW"
      },
      "id": "3qmLcaCrsJaW"
    },
    {
      "id": "67aad77e-839e-4e00-8359-c87fbf8bfdfd",
      "cell_type": "markdown",
      "source": [
        "In this step, we will train the first RuBERT model with augmentations from `augmentex`.\n",
        "\n",
        "We will use replace and typo (which is especially important, since people often write to chatbots via their phones), as they are the fastest and do not require loading language models, unlike other augmentations. Let's install `augmentex`:"
      ],
      "metadata": {
        "id": "67aad77e-839e-4e00-8359-c87fbf8bfdfd"
      }
    },
    {
      "id": "4650fb18-ef49-4ef5-94ac-25fcc0494584",
      "cell_type": "code",
      "source": [
        "!pip install git+https://github.com/ai-forever/augmentex.git"
      ],
      "metadata": {
        "trusted": true,
        "id": "4650fb18-ef49-4ef5-94ac-25fcc0494584"
      },
      "outputs": [],
      "execution_count": null
    },
    {
      "id": "66c324d9-0792-4309-b27a-a0bec4a5e0c1",
      "cell_type": "markdown",
      "source": [
        "Let's create the datasets:"
      ],
      "metadata": {
        "id": "66c324d9-0792-4309-b27a-a0bec4a5e0c1"
      }
    },
    {
      "id": "6695cce1-4ef6-42e7-8648-efd0e3e6787c",
      "cell_type": "code",
      "source": [
        "train_df = pd.read_csv(\"/kaggle/input/qa-intents-dataset-university-domain/dataset_train.tsv\", sep=\"\\t\", header=None, names=[\"text\", \"label\"])\n",
        "test_df = pd.read_csv(\"/kaggle/input/qa-intents-dataset-university-domain/dataset_test.tsv\", sep=\"\\t\", header=None, names=[\"text\", \"label\"])\n",
        "\n",
        "le = LabelEncoder()\n",
        "train_df[\"label_id\"] = le.fit_transform(train_df[\"label\"])\n",
        "test_df[\"label_id\"] = le.transform(test_df[\"label\"])\n",
        "\n",
        "train_texts, val_texts, train_labels, val_labels = train_test_split(\n",
        "    train_df[\"text\"], train_df[\"label_id\"], test_size=0.1, stratify=train_df[\"label_id\"], random_state=42\n",
        ")\n",
        "\n",
        "tokenizer = AutoTokenizer.from_pretrained(\"DeepPavlov/rubert-base-cased\")\n",
        "\n",
        "train_dataset = AugmentedIntentDataset(\n",
        "    texts=train_texts.tolist(),\n",
        "    labels=train_labels.tolist(),\n",
        "    tokenizer=tokenizer,\n",
        "    augment=True,\n",
        "    augment_kwargs={\"augmentations\": [\"replace\", \"typo\"]}\n",
        ")\n",
        "\n",
        "val_dataset = AugmentedIntentDataset(\n",
        "    texts=val_texts.tolist(),\n",
        "    labels=val_labels.tolist(),\n",
        "    tokenizer=tokenizer,\n",
        "    augment=True,\n",
        "    augment_kwargs={\"augmentations\": [\"replace\", \"typo\"]}\n",
        ")\n",
        "\n",
        "\n",
        "test_dataset = AugmentedIntentDataset(\n",
        "    texts=test_df[\"text\"].tolist(),\n",
        "    labels=test_df[\"label_id\"].tolist(),\n",
        "    tokenizer=tokenizer,\n",
        "    augment=False\n",
        ")"
      ],
      "metadata": {
        "trusted": true,
        "execution": {
          "iopub.status.busy": "2025-05-14T18:08:11.962725Z",
          "iopub.execute_input": "2025-05-14T18:08:11.963536Z",
          "iopub.status.idle": "2025-05-14T18:08:13.068963Z",
          "shell.execute_reply.started": "2025-05-14T18:08:11.963503Z",
          "shell.execute_reply": "2025-05-14T18:08:13.068155Z"
        },
        "id": "6695cce1-4ef6-42e7-8648-efd0e3e6787c"
      },
      "outputs": [],
      "execution_count": null
    },
    {
      "id": "f299b6ba-79ee-4343-ac77-f8de9fd1c204",
      "cell_type": "markdown",
      "source": [
        "Then we will train the model for $8$ epochs with `learning_rate=2e-5`, `weight_decay=0.01`:"
      ],
      "metadata": {
        "id": "f299b6ba-79ee-4343-ac77-f8de9fd1c204"
      }
    },
    {
      "id": "da1d3ac5-cb63-4df6-b123-6aec433f1e57",
      "cell_type": "code",
      "source": [
        "wandb.init(project=\"NLP-spring-2025\", name=\"rubert-intent-cls-with-augmentex-run-2\")\n",
        "\n",
        "model = AutoModelForSequenceClassification.from_pretrained(\n",
        "    model_checkpoint,\n",
        "    num_labels=len(le.classes_)\n",
        ")\n",
        "\n",
        "training_args = TrainingArguments(\n",
        "    output_dir=\"./results-rubert-intent-cls-with-augmentex\",\n",
        "    eval_strategy=\"epoch\",\n",
        "    save_strategy=\"epoch\",\n",
        "    learning_rate=2e-5,\n",
        "    per_device_train_batch_size=128,\n",
        "    per_device_eval_batch_size=128,\n",
        "    num_train_epochs=8,\n",
        "    weight_decay=0.01,\n",
        "    logging_steps=50,\n",
        "    load_best_model_at_end=True,\n",
        "    save_total_limit=1,\n",
        "    metric_for_best_model=\"accuracy\",\n",
        "    greater_is_better=True,\n",
        "    report_to=\"wandb\"\n",
        ")\n",
        "\n",
        "trainer = Trainer(\n",
        "    model=model,\n",
        "    args=training_args,\n",
        "    train_dataset=train_dataset,\n",
        "    eval_dataset=val_dataset,\n",
        "    tokenizer=tokenizer,\n",
        "    compute_metrics=compute_accuracy\n",
        ")\n",
        "\n",
        "trainer.train()"
      ],
      "metadata": {
        "trusted": true,
        "execution": {
          "iopub.status.busy": "2025-05-14T18:08:29.710064Z",
          "iopub.execute_input": "2025-05-14T18:08:29.710337Z",
          "iopub.status.idle": "2025-05-14T18:28:28.304084Z",
          "shell.execute_reply.started": "2025-05-14T18:08:29.710314Z",
          "shell.execute_reply": "2025-05-14T18:28:28.303481Z"
        },
        "id": "da1d3ac5-cb63-4df6-b123-6aec433f1e57",
        "outputId": "77e6fd8a-2203-4a07-a3b5-85b2b7ab4a9b"
      },
      "outputs": [
        {
          "output_type": "display_data",
          "data": {
            "text/plain": "<IPython.core.display.HTML object>",
            "text/html": "Tracking run with wandb version 0.19.6"
          },
          "metadata": {}
        },
        {
          "output_type": "display_data",
          "data": {
            "text/plain": "<IPython.core.display.HTML object>",
            "text/html": "Run data is saved locally in <code>/kaggle/working/wandb/run-20250514_180829-fb3hmeta</code>"
          },
          "metadata": {}
        },
        {
          "output_type": "display_data",
          "data": {
            "text/plain": "<IPython.core.display.HTML object>",
            "text/html": "Syncing run <strong><a href='https://wandb.ai/radyasrn-mipt/NLP-spring-2025/runs/fb3hmeta' target=\"_blank\">rubert-intent-cls-with-augmentex-run-2</a></strong> to <a href='https://wandb.ai/radyasrn-mipt/NLP-spring-2025' target=\"_blank\">Weights & Biases</a> (<a href='https://wandb.me/developer-guide' target=\"_blank\">docs</a>)<br>"
          },
          "metadata": {}
        },
        {
          "output_type": "display_data",
          "data": {
            "text/plain": "<IPython.core.display.HTML object>",
            "text/html": " View project at <a href='https://wandb.ai/radyasrn-mipt/NLP-spring-2025' target=\"_blank\">https://wandb.ai/radyasrn-mipt/NLP-spring-2025</a>"
          },
          "metadata": {}
        },
        {
          "output_type": "display_data",
          "data": {
            "text/plain": "<IPython.core.display.HTML object>",
            "text/html": " View run at <a href='https://wandb.ai/radyasrn-mipt/NLP-spring-2025/runs/fb3hmeta' target=\"_blank\">https://wandb.ai/radyasrn-mipt/NLP-spring-2025/runs/fb3hmeta</a>"
          },
          "metadata": {}
        },
        {
          "name": "stderr",
          "text": "Some weights of BertForSequenceClassification were not initialized from the model checkpoint at DeepPavlov/rubert-base-cased and are newly initialized: ['classifier.bias', 'classifier.weight']\nYou should probably TRAIN this model on a down-stream task to be able to use it for predictions and inference.\n/tmp/ipykernel_31/1096418317.py:25: FutureWarning: `tokenizer` is deprecated and will be removed in version 5.0.0 for `Trainer.__init__`. Use `processing_class` instead.\n  trainer = Trainer(\n",
          "output_type": "stream"
        },
        {
          "output_type": "display_data",
          "data": {
            "text/plain": "<IPython.core.display.HTML object>",
            "text/html": "\n    <div>\n      \n      <progress value='752' max='752' style='width:300px; height:20px; vertical-align: middle;'></progress>\n      [752/752 19:48, Epoch 8/8]\n    </div>\n    <table border=\"1\" class=\"dataframe\">\n  <thead>\n <tr style=\"text-align: left;\">\n      <th>Epoch</th>\n      <th>Training Loss</th>\n      <th>Validation Loss</th>\n      <th>Accuracy</th>\n    </tr>\n  </thead>\n  <tbody>\n    <tr>\n      <td>1</td>\n      <td>4.652600</td>\n      <td>3.935990</td>\n      <td>0.213152</td>\n    </tr>\n    <tr>\n      <td>2</td>\n      <td>3.810200</td>\n      <td>3.408198</td>\n      <td>0.296296</td>\n    </tr>\n    <tr>\n      <td>3</td>\n      <td>3.314100</td>\n      <td>3.012406</td>\n      <td>0.377173</td>\n    </tr>\n    <tr>\n      <td>4</td>\n      <td>2.946900</td>\n      <td>2.732429</td>\n      <td>0.422525</td>\n    </tr>\n    <tr>\n      <td>5</td>\n      <td>2.695900</td>\n      <td>2.505434</td>\n      <td>0.468632</td>\n    </tr>\n    <tr>\n      <td>6</td>\n      <td>2.517800</td>\n      <td>2.365288</td>\n      <td>0.506425</td>\n    </tr>\n    <tr>\n      <td>7</td>\n      <td>2.410400</td>\n      <td>2.298048</td>\n      <td>0.527589</td>\n    </tr>\n    <tr>\n      <td>8</td>\n      <td>2.374300</td>\n      <td>2.261744</td>\n      <td>0.523810</td>\n    </tr>\n  </tbody>\n</table><p>"
          },
          "metadata": {}
        },
        {
          "execution_count": 85,
          "output_type": "execute_result",
          "data": {
            "text/plain": "TrainOutput(global_step=752, training_loss=3.053412743705384, metrics={'train_runtime': 1189.5474, 'train_samples_per_second': 80.078, 'train_steps_per_second': 0.632, 'total_flos': 6273602712760320.0, 'train_loss': 3.053412743705384, 'epoch': 8.0})"
          },
          "metadata": {}
        }
      ],
      "execution_count": null
    },
    {
      "id": "10834d3a-506e-4d5e-a860-2bb983330d97",
      "cell_type": "markdown",
      "source": [
        "Then we will finish the run:"
      ],
      "metadata": {
        "id": "10834d3a-506e-4d5e-a860-2bb983330d97"
      }
    },
    {
      "id": "a30e16d3-5507-4310-8b44-ba0815ecc7e0",
      "cell_type": "code",
      "source": [
        "wandb.finish()"
      ],
      "metadata": {
        "trusted": true,
        "execution": {
          "iopub.status.busy": "2025-05-14T18:30:02.525152Z",
          "iopub.execute_input": "2025-05-14T18:30:02.525959Z",
          "iopub.status.idle": "2025-05-14T18:30:04.159408Z",
          "shell.execute_reply.started": "2025-05-14T18:30:02.525930Z",
          "shell.execute_reply": "2025-05-14T18:30:04.158740Z"
        },
        "id": "a30e16d3-5507-4310-8b44-ba0815ecc7e0",
        "outputId": "04a092c4-d2ca-4b4b-dffc-236369242af0"
      },
      "outputs": [
        {
          "output_type": "display_data",
          "data": {
            "text/plain": "<IPython.core.display.HTML object>",
            "text/html": ""
          },
          "metadata": {}
        },
        {
          "output_type": "display_data",
          "data": {
            "text/plain": "<IPython.core.display.HTML object>",
            "text/html": "<br>    <style><br>        .wandb-row {<br>            display: flex;<br>            flex-direction: row;<br>            flex-wrap: wrap;<br>            justify-content: flex-start;<br>            width: 100%;<br>        }<br>        .wandb-col {<br>            display: flex;<br>            flex-direction: column;<br>            flex-basis: 100%;<br>            flex: 1;<br>            padding: 10px;<br>        }<br>    </style><br><div class=\"wandb-row\"><div class=\"wandb-col\"><h3>Run history:</h3><br/><table class=\"wandb\"><tr><td>eval/accuracy</td><td>▁▃▅▆▇███</td></tr><tr><td>eval/loss</td><td>█▆▄▃▂▁▁▁</td></tr><tr><td>eval/runtime</td><td>▄▂▂▂▃█▄▁</td></tr><tr><td>eval/samples_per_second</td><td>▅▇▇▇▆▁▅█</td></tr><tr><td>eval/steps_per_second</td><td>▆█▇▇▆▁▅█</td></tr><tr><td>train/epoch</td><td>▁▁▁▂▂▂▃▃▃▄▄▄▅▅▅▆▆▆▇▇▇███</td></tr><tr><td>train/global_step</td><td>▁▁▁▂▂▂▃▃▃▄▄▄▅▅▅▆▆▆▇▇▇███</td></tr><tr><td>train/grad_norm</td><td>▁▁▅▂▃▄█▅▄▅▄▅▄▅▅</td></tr><tr><td>train/learning_rate</td><td>██▇▇▆▆▅▅▄▄▃▃▂▂▁</td></tr><tr><td>train/loss</td><td>█▆▅▄▄▃▃▂▂▂▁▁▁▁▁</td></tr></table><br/></div><div class=\"wandb-col\"><h3>Run summary:</h3><br/><table class=\"wandb\"><tr><td>eval/accuracy</td><td>0.52381</td></tr><tr><td>eval/loss</td><td>2.26174</td></tr><tr><td>eval/runtime</td><td>5.1632</td></tr><tr><td>eval/samples_per_second</td><td>256.234</td></tr><tr><td>eval/steps_per_second</td><td>2.13</td></tr><tr><td>total_flos</td><td>6273602712760320.0</td></tr><tr><td>train/epoch</td><td>8</td></tr><tr><td>train/global_step</td><td>752</td></tr><tr><td>train/grad_norm</td><td>3.97623</td></tr><tr><td>train/learning_rate</td><td>0.0</td></tr><tr><td>train/loss</td><td>2.3743</td></tr><tr><td>train_loss</td><td>3.05341</td></tr><tr><td>train_runtime</td><td>1189.5474</td></tr><tr><td>train_samples_per_second</td><td>80.078</td></tr><tr><td>train_steps_per_second</td><td>0.632</td></tr></table><br/></div></div>"
          },
          "metadata": {}
        },
        {
          "output_type": "display_data",
          "data": {
            "text/plain": "<IPython.core.display.HTML object>",
            "text/html": " View run <strong style=\"color:#cdcd00\">rubert-intent-cls-with-augmentex-run-2</strong> at: <a href='https://wandb.ai/radyasrn-mipt/NLP-spring-2025/runs/fb3hmeta' target=\"_blank\">https://wandb.ai/radyasrn-mipt/NLP-spring-2025/runs/fb3hmeta</a><br> View project at: <a href='https://wandb.ai/radyasrn-mipt/NLP-spring-2025' target=\"_blank\">https://wandb.ai/radyasrn-mipt/NLP-spring-2025</a><br>Synced 5 W&B file(s), 0 media file(s), 0 artifact file(s) and 0 other file(s)"
          },
          "metadata": {}
        },
        {
          "output_type": "display_data",
          "data": {
            "text/plain": "<IPython.core.display.HTML object>",
            "text/html": "Find logs at: <code>./wandb/run-20250514_180829-fb3hmeta/logs</code>"
          },
          "metadata": {}
        }
      ],
      "execution_count": null
    },
    {
      "id": "c7679279-7b72-46e6-af24-1ac0de45b43e",
      "cell_type": "markdown",
      "source": [
        "Then we will save the model:"
      ],
      "metadata": {
        "id": "c7679279-7b72-46e6-af24-1ac0de45b43e"
      }
    },
    {
      "id": "32feacc4-c4e8-47b5-a9cf-6072f4c32a92",
      "cell_type": "code",
      "source": [
        "trainer.save_model(\"./rubert-intent-cls-with-augmentex-model\")\n",
        "tokenizer.save_pretrained(\"./rubert-intent-cls-with-augmentex-model\")"
      ],
      "metadata": {
        "trusted": true,
        "execution": {
          "iopub.status.busy": "2025-05-14T18:30:10.598676Z",
          "iopub.execute_input": "2025-05-14T18:30:10.598948Z",
          "iopub.status.idle": "2025-05-14T18:30:12.149624Z",
          "shell.execute_reply.started": "2025-05-14T18:30:10.598927Z",
          "shell.execute_reply": "2025-05-14T18:30:12.148957Z"
        },
        "id": "32feacc4-c4e8-47b5-a9cf-6072f4c32a92",
        "outputId": "8985ef88-6987-445d-f45a-4781dce4959c"
      },
      "outputs": [
        {
          "execution_count": 88,
          "output_type": "execute_result",
          "data": {
            "text/plain": "('./rubert-intent-cls-with-augmentex-model/tokenizer_config.json',\n './rubert-intent-cls-with-augmentex-model/special_tokens_map.json',\n './rubert-intent-cls-with-augmentex-model/vocab.txt',\n './rubert-intent-cls-with-augmentex-model/added_tokens.json',\n './rubert-intent-cls-with-augmentex-model/tokenizer.json')"
          },
          "metadata": {}
        }
      ],
      "execution_count": null
    },
    {
      "id": "8dccca75-a8f0-4e6a-a2cb-a15b2c544fb7",
      "cell_type": "markdown",
      "source": [
        "Let's look at the training history:"
      ],
      "metadata": {
        "id": "8dccca75-a8f0-4e6a-a2cb-a15b2c544fb7"
      }
    },
    {
      "id": "1fe2e02c-731c-402a-bd5d-d9113337b23c",
      "cell_type": "code",
      "source": [
        "plot_wandb_metrics(\n",
        "    run_path='radyasrn-mipt/NLP-spring-2025/fb3hmeta',\n",
        "    metric_keys=['eval/accuracy'],\n",
        "    title_suffix='Accuracy'\n",
        ")"
      ],
      "metadata": {
        "trusted": true,
        "execution": {
          "iopub.status.busy": "2025-09-04T09:03:43.950298Z",
          "iopub.execute_input": "2025-09-04T09:03:43.950641Z",
          "iopub.status.idle": "2025-09-04T09:03:45.451233Z",
          "shell.execute_reply.started": "2025-09-04T09:03:43.950617Z",
          "shell.execute_reply": "2025-09-04T09:03:45.450472Z"
        },
        "id": "1fe2e02c-731c-402a-bd5d-d9113337b23c",
        "outputId": "badf0686-a6eb-4756-ed05-8cf25cb96e84"
      },
      "outputs": [
        {
          "name": "stderr",
          "text": "/tmp/ipykernel_31/3774981854.py:13: FutureWarning: DataFrame.fillna with 'method' is deprecated and will raise in a future version. Use obj.ffill() or obj.bfill() instead.\n  history = history.fillna(method='ffill').fillna(method='bfill')\n",
          "output_type": "stream"
        },
        {
          "output_type": "display_data",
          "data": {
            "text/plain": "<Figure size 1400x500 with 2 Axes>",
            "image/png": "[encoded data removed]"
          },
          "metadata": {}
        }
      ],
      "execution_count": null
    },
    {
      "id": "bf94bc8f-4ef7-4ee1-b0c7-2b4342935ebb",
      "cell_type": "markdown",
      "source": [
        "We see a noticeable drop in accuracy, so augmentation is probably not worth using. Let's look at the test results:"
      ],
      "metadata": {
        "id": "bf94bc8f-4ef7-4ee1-b0c7-2b4342935ebb"
      }
    },
    {
      "id": "55ee8c45-1a67-4500-8542-dfe122b39f02",
      "cell_type": "code",
      "source": [
        "model = AutoModelForSequenceClassification.from_pretrained(\n",
        "    \"./rubert-intent-cls-with-augmentex-model\",\n",
        "    num_labels=len(le.classes_)\n",
        ")\n",
        "model.eval()\n",
        "model.cuda()\n",
        "\n",
        "dataloader = DataLoader(test_dataset, batch_size=128)\n",
        "\n",
        "all_preds = []\n",
        "all_labels = []\n",
        "\n",
        "with torch.no_grad():\n",
        "    for batch in tqdm(dataloader, leave=False):\n",
        "        inputs = {\n",
        "            \"input_ids\": batch[\"input_ids\"].to(model.device),\n",
        "            \"attention_mask\": batch[\"attention_mask\"].to(model.device)\n",
        "        }\n",
        "        labels = batch[\"labels\"].to(model.device)\n",
        "        logits = model(**inputs).logits\n",
        "        preds = logits.argmax(dim=-1)\n",
        "        all_preds.append(preds.cpu())\n",
        "        all_labels.append(labels.cpu())\n",
        "\n",
        "all_preds = torch.cat(all_preds).numpy()\n",
        "all_labels = torch.cat(all_labels).numpy()\n",
        "acc_142_classes_with_augmentex = accuracy_score(all_labels, all_preds)"
      ],
      "metadata": {
        "trusted": true,
        "execution": {
          "iopub.status.busy": "2025-05-14T18:30:20.366752Z",
          "iopub.execute_input": "2025-05-14T18:30:20.366994Z",
          "iopub.status.idle": "2025-05-14T18:30:23.941952Z",
          "shell.execute_reply.started": "2025-05-14T18:30:20.366976Z",
          "shell.execute_reply": "2025-05-14T18:30:23.940998Z"
        },
        "colab": {
          "referenced_widgets": [
            ""
          ]
        },
        "id": "55ee8c45-1a67-4500-8542-dfe122b39f02",
        "outputId": "b9bb40f7-f183-449a-d3ff-d0b525e98157"
      },
      "outputs": [
        {
          "output_type": "display_data",
          "data": {
            "text/plain": "  0%|          | 0/7 [00:00<?, ?it/s]",
            "application/vnd.jupyter.widget-view+json": {
              "version_major": 2,
              "version_minor": 0,
              "model_id": ""
            }
          },
          "metadata": {}
        }
      ],
      "execution_count": null
    },
    {
      "id": "ce5cc9db-713c-4607-8112-33293e1e5f3f",
      "cell_type": "code",
      "source": [
        "print(f'{acc_142_classes_with_augmentex:.3f}')"
      ],
      "metadata": {
        "trusted": true,
        "execution": {
          "iopub.status.busy": "2025-05-14T20:36:50.832854Z",
          "iopub.execute_input": "2025-05-14T20:36:50.833125Z",
          "iopub.status.idle": "2025-05-14T20:36:50.837300Z",
          "shell.execute_reply.started": "2025-05-14T20:36:50.833107Z",
          "shell.execute_reply": "2025-05-14T20:36:50.836502Z"
        },
        "id": "ce5cc9db-713c-4607-8112-33293e1e5f3f",
        "outputId": "6527fe8b-1623-4b12-d635-9270c0db9097"
      },
      "outputs": [
        {
          "name": "stdout",
          "text": "0.570\n",
          "output_type": "stream"
        }
      ],
      "execution_count": null
    },
    {
      "cell_type": "markdown",
      "source": [
        "<a name=\"step-5-final-comparison-of-models\"></a>\n",
        "<b><font size=4>**Step $5$</font></b> <b><font size=2>(Final Comparison of Models):**</font></b>"
      ],
      "metadata": {
        "id": "JP1Sdp4TsflK"
      },
      "id": "JP1Sdp4TsflK"
    },
    {
      "id": "6ce378ad-09eb-4e51-a05f-0ad35685704d",
      "cell_type": "markdown",
      "source": [
        "Let's compare the results with the previously calculated accuracy values:"
      ],
      "metadata": {
        "id": "6ce378ad-09eb-4e51-a05f-0ad35685704d"
      }
    },
    {
      "id": "95422c6e-9e8e-4588-aa1e-01d3224df2fa",
      "cell_type": "code",
      "source": [
        "results_intent_classification = pd.DataFrame({\n",
        "    \"model\": [\"baseline_142_classes\",\n",
        "              \"only_122_classes\",\n",
        "              \"only_122_classes_finetune_on_142_classes\",\n",
        "              \"142_classes_with_augmentations\"\n",
        "    ],\n",
        "    \"accuracy\": [acc, acc_122_classes, acc_142_classes, acc_142_classes_with_augmentex]\n",
        "})\n",
        "\n",
        "results_intent_classification = results_intent_classification.round(3)\n",
        "results_intent_classification"
      ],
      "metadata": {
        "trusted": true,
        "execution": {
          "iopub.status.busy": "2025-05-14T20:40:14.671249Z",
          "iopub.execute_input": "2025-05-14T20:40:14.671787Z",
          "iopub.status.idle": "2025-05-14T20:40:14.680236Z",
          "shell.execute_reply.started": "2025-05-14T20:40:14.671757Z",
          "shell.execute_reply": "2025-05-14T20:40:14.679480Z"
        },
        "id": "95422c6e-9e8e-4588-aa1e-01d3224df2fa",
        "outputId": "11c83536-588f-4959-d162-4c015c529b99"
      },
      "outputs": [
        {
          "execution_count": 180,
          "output_type": "execute_result",
          "data": {
            "text/plain": "                                      model  accuracy\n0                      baseline_142_classes     0.949\n1                          only_122_classes     0.934\n2  only_122_classes_finetune_on_142_classes     0.949\n3            142_classes_with_augmentations     0.570",
            "text/html": "<div>\n<style scoped>\n    .dataframe tbody tr th:only-of-type {\n        vertical-align: middle;\n    }\n\n    .dataframe tbody tr th {\n        vertical-align: top;\n    }\n\n    .dataframe thead th {\n        text-align: right;\n    }\n</style>\n<table border=\"1\" class=\"dataframe\">\n  <thead>\n    <tr style=\"text-align: right;\">\n      <th></th>\n      <th>model</th>\n      <th>accuracy</th>\n    </tr>\n  </thead>\n  <tbody>\n    <tr>\n      <th>0</th>\n      <td>baseline_142_classes</td>\n      <td>0.949</td>\n    </tr>\n    <tr>\n      <th>1</th>\n      <td>only_122_classes</td>\n      <td>0.934</td>\n    </tr>\n    <tr>\n      <th>2</th>\n      <td>only_122_classes_finetune_on_142_classes</td>\n      <td>0.949</td>\n    </tr>\n    <tr>\n      <th>3</th>\n      <td>142_classes_with_augmentations</td>\n      <td>0.570</td>\n    </tr>\n  </tbody>\n</table>\n</div>"
          },
          "metadata": {}
        }
      ],
      "execution_count": null
    },
    {
      "id": "acc36fc4-4ee9-4724-acbb-1b9947231e87",
      "cell_type": "markdown",
      "source": [
        "We see that the first three models showed good results and that the method used in the third model is practical. However, the augmentations in the fourth model only worsened the quality."
      ],
      "metadata": {
        "id": "acc36fc4-4ee9-4724-acbb-1b9947231e87"
      }
    }
  ]
}